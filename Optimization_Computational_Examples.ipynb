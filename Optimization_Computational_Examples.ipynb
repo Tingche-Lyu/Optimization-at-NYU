{
  "cells": [
    {
      "cell_type": "markdown",
      "metadata": {
        "id": "view-in-github",
        "colab_type": "text"
      },
      "source": [
        "<a href=\"https://colab.research.google.com/github/Tingche-Lyu/Optimization-at-NYU/blob/main/Optimization_Computational_Examples.ipynb\" target=\"_parent\"><img src=\"https://colab.research.google.com/assets/colab-badge.svg\" alt=\"Open In Colab\"/></a>"
      ]
    },
    {
      "cell_type": "markdown",
      "metadata": {
        "id": "ZJrZsvg4_-5H"
      },
      "source": [
        "# Linear programming course: numerical examples"
      ]
    },
    {
      "cell_type": "code",
      "execution_count": null,
      "metadata": {
        "id": "gjSEyry5Cf-B"
      },
      "outputs": [],
      "source": [
        "import numpy as np\n",
        "import scipy.sparse as spr\n",
        "import pandas as pd\n",
        "from scipy.stats import ortho_group\n",
        "import matplotlib.pyplot as plt\n",
        "from scipy import optimize\n",
        "from math import sqrt\n"
      ]
    },
    {
      "cell_type": "code",
      "source": [
        "!pip install gurobipy\n",
        "import gurobipy as grb"
      ],
      "metadata": {
        "id": "ni_te0N4revO",
        "colab": {
          "base_uri": "https://localhost:8080/"
        },
        "outputId": "124aa1b9-16ec-4fb5-a71d-d8fc57ba9f6b"
      },
      "execution_count": null,
      "outputs": [
        {
          "output_type": "stream",
          "name": "stdout",
          "text": [
            "Requirement already satisfied: gurobipy in /usr/local/lib/python3.7/dist-packages (9.5.1)\n"
          ]
        }
      ]
    },
    {
      "cell_type": "markdown",
      "metadata": {
        "id": "8yY4yf2DBgoP"
      },
      "source": [
        "# Lecture 1: the diet problem"
      ]
    },
    {
      "cell_type": "markdown",
      "metadata": {
        "id": "1r0C51UoBiR6"
      },
      "source": [
        "### Downloading Stigler's data\n",
        "\n",
        "Our dataset was directly taken from Stigler's article. It is a .csv file called `StiglerData1939.txt'. Have a look at the diet problem data:"
      ]
    },
    {
      "cell_type": "code",
      "execution_count": null,
      "metadata": {
        "colab": {
          "base_uri": "https://localhost:8080/",
          "height": 461
        },
        "id": "UyykFuM1BsCW",
        "outputId": "b436e140-6234-4553-a530-6ecd785a1a77"
      },
      "outputs": [
        {
          "output_type": "execute_result",
          "data": {
            "text/plain": [
              "                    Commodity    Unit  Price Aug.15 1939(cents)  \\\n",
              "0   1. Wheat Flour (Enriched)  10 lb.                      36.0   \n",
              "1                 2. Macaroni   1 lb.                      14.1   \n",
              "2  3. Wheat Cereal (Enriched)  28 oz.                      24.2   \n",
              "3              4. Corn Flakes   8 oz.                       7.1   \n",
              "4                5. Corn Meal   1 lb.                       4.6   \n",
              "\n",
              "   Edible Weight per $1.00 (grams)  Calories (1000)  Protein(grams)  \\\n",
              "0                          12600.0             44.7          1411.0   \n",
              "1                           3217.0             11.6           418.0   \n",
              "2                           3280.0             11.8           377.0   \n",
              "3                           3194.0             11.4           252.0   \n",
              "4                           9861.0             36.0           897.0   \n",
              "\n",
              "   Calcium(grams)  Iron(mg.)  Vitamin A(1000 I.U)  Thiamine(mg.)  \\\n",
              "0             2.0      365.0                  NaN           55.4   \n",
              "1             0.7       54.0                  NaN            3.2   \n",
              "2            14.4      175.0                  NaN           14.4   \n",
              "3             0.1       56.0                  NaN           13.5   \n",
              "4             1.7       99.0                 30.9           17.4   \n",
              "\n",
              "   Riboflavin(mg.)  Niacin(mg.)  Asorbic Acid (mg.)  \n",
              "0             33.3        441.0                 NaN  \n",
              "1              1.9         68.0                 NaN  \n",
              "2              8.8        114.0                 NaN  \n",
              "3              2.3         68.0                 NaN  \n",
              "4              7.9        106.0                 NaN  "
            ],
            "text/html": [
              "\n",
              "  <div id=\"df-e3f45cb8-2fd2-4839-899d-25a5cfc7d23d\">\n",
              "    <div class=\"colab-df-container\">\n",
              "      <div>\n",
              "<style scoped>\n",
              "    .dataframe tbody tr th:only-of-type {\n",
              "        vertical-align: middle;\n",
              "    }\n",
              "\n",
              "    .dataframe tbody tr th {\n",
              "        vertical-align: top;\n",
              "    }\n",
              "\n",
              "    .dataframe thead th {\n",
              "        text-align: right;\n",
              "    }\n",
              "</style>\n",
              "<table border=\"1\" class=\"dataframe\">\n",
              "  <thead>\n",
              "    <tr style=\"text-align: right;\">\n",
              "      <th></th>\n",
              "      <th>Commodity</th>\n",
              "      <th>Unit</th>\n",
              "      <th>Price Aug.15 1939(cents)</th>\n",
              "      <th>Edible Weight per $1.00 (grams)</th>\n",
              "      <th>Calories (1000)</th>\n",
              "      <th>Protein(grams)</th>\n",
              "      <th>Calcium(grams)</th>\n",
              "      <th>Iron(mg.)</th>\n",
              "      <th>Vitamin A(1000 I.U)</th>\n",
              "      <th>Thiamine(mg.)</th>\n",
              "      <th>Riboflavin(mg.)</th>\n",
              "      <th>Niacin(mg.)</th>\n",
              "      <th>Asorbic Acid (mg.)</th>\n",
              "    </tr>\n",
              "  </thead>\n",
              "  <tbody>\n",
              "    <tr>\n",
              "      <th>0</th>\n",
              "      <td>1. Wheat Flour (Enriched)</td>\n",
              "      <td>10 lb.</td>\n",
              "      <td>36.0</td>\n",
              "      <td>12600.0</td>\n",
              "      <td>44.7</td>\n",
              "      <td>1411.0</td>\n",
              "      <td>2.0</td>\n",
              "      <td>365.0</td>\n",
              "      <td>NaN</td>\n",
              "      <td>55.4</td>\n",
              "      <td>33.3</td>\n",
              "      <td>441.0</td>\n",
              "      <td>NaN</td>\n",
              "    </tr>\n",
              "    <tr>\n",
              "      <th>1</th>\n",
              "      <td>2. Macaroni</td>\n",
              "      <td>1 lb.</td>\n",
              "      <td>14.1</td>\n",
              "      <td>3217.0</td>\n",
              "      <td>11.6</td>\n",
              "      <td>418.0</td>\n",
              "      <td>0.7</td>\n",
              "      <td>54.0</td>\n",
              "      <td>NaN</td>\n",
              "      <td>3.2</td>\n",
              "      <td>1.9</td>\n",
              "      <td>68.0</td>\n",
              "      <td>NaN</td>\n",
              "    </tr>\n",
              "    <tr>\n",
              "      <th>2</th>\n",
              "      <td>3. Wheat Cereal (Enriched)</td>\n",
              "      <td>28 oz.</td>\n",
              "      <td>24.2</td>\n",
              "      <td>3280.0</td>\n",
              "      <td>11.8</td>\n",
              "      <td>377.0</td>\n",
              "      <td>14.4</td>\n",
              "      <td>175.0</td>\n",
              "      <td>NaN</td>\n",
              "      <td>14.4</td>\n",
              "      <td>8.8</td>\n",
              "      <td>114.0</td>\n",
              "      <td>NaN</td>\n",
              "    </tr>\n",
              "    <tr>\n",
              "      <th>3</th>\n",
              "      <td>4. Corn Flakes</td>\n",
              "      <td>8 oz.</td>\n",
              "      <td>7.1</td>\n",
              "      <td>3194.0</td>\n",
              "      <td>11.4</td>\n",
              "      <td>252.0</td>\n",
              "      <td>0.1</td>\n",
              "      <td>56.0</td>\n",
              "      <td>NaN</td>\n",
              "      <td>13.5</td>\n",
              "      <td>2.3</td>\n",
              "      <td>68.0</td>\n",
              "      <td>NaN</td>\n",
              "    </tr>\n",
              "    <tr>\n",
              "      <th>4</th>\n",
              "      <td>5. Corn Meal</td>\n",
              "      <td>1 lb.</td>\n",
              "      <td>4.6</td>\n",
              "      <td>9861.0</td>\n",
              "      <td>36.0</td>\n",
              "      <td>897.0</td>\n",
              "      <td>1.7</td>\n",
              "      <td>99.0</td>\n",
              "      <td>30.9</td>\n",
              "      <td>17.4</td>\n",
              "      <td>7.9</td>\n",
              "      <td>106.0</td>\n",
              "      <td>NaN</td>\n",
              "    </tr>\n",
              "  </tbody>\n",
              "</table>\n",
              "</div>\n",
              "      <button class=\"colab-df-convert\" onclick=\"convertToInteractive('df-e3f45cb8-2fd2-4839-899d-25a5cfc7d23d')\"\n",
              "              title=\"Convert this dataframe to an interactive table.\"\n",
              "              style=\"display:none;\">\n",
              "        \n",
              "  <svg xmlns=\"http://www.w3.org/2000/svg\" height=\"24px\"viewBox=\"0 0 24 24\"\n",
              "       width=\"24px\">\n",
              "    <path d=\"M0 0h24v24H0V0z\" fill=\"none\"/>\n",
              "    <path d=\"M18.56 5.44l.94 2.06.94-2.06 2.06-.94-2.06-.94-.94-2.06-.94 2.06-2.06.94zm-11 1L8.5 8.5l.94-2.06 2.06-.94-2.06-.94L8.5 2.5l-.94 2.06-2.06.94zm10 10l.94 2.06.94-2.06 2.06-.94-2.06-.94-.94-2.06-.94 2.06-2.06.94z\"/><path d=\"M17.41 7.96l-1.37-1.37c-.4-.4-.92-.59-1.43-.59-.52 0-1.04.2-1.43.59L10.3 9.45l-7.72 7.72c-.78.78-.78 2.05 0 2.83L4 21.41c.39.39.9.59 1.41.59.51 0 1.02-.2 1.41-.59l7.78-7.78 2.81-2.81c.8-.78.8-2.07 0-2.86zM5.41 20L4 18.59l7.72-7.72 1.47 1.35L5.41 20z\"/>\n",
              "  </svg>\n",
              "      </button>\n",
              "      \n",
              "  <style>\n",
              "    .colab-df-container {\n",
              "      display:flex;\n",
              "      flex-wrap:wrap;\n",
              "      gap: 12px;\n",
              "    }\n",
              "\n",
              "    .colab-df-convert {\n",
              "      background-color: #E8F0FE;\n",
              "      border: none;\n",
              "      border-radius: 50%;\n",
              "      cursor: pointer;\n",
              "      display: none;\n",
              "      fill: #1967D2;\n",
              "      height: 32px;\n",
              "      padding: 0 0 0 0;\n",
              "      width: 32px;\n",
              "    }\n",
              "\n",
              "    .colab-df-convert:hover {\n",
              "      background-color: #E2EBFA;\n",
              "      box-shadow: 0px 1px 2px rgba(60, 64, 67, 0.3), 0px 1px 3px 1px rgba(60, 64, 67, 0.15);\n",
              "      fill: #174EA6;\n",
              "    }\n",
              "\n",
              "    [theme=dark] .colab-df-convert {\n",
              "      background-color: #3B4455;\n",
              "      fill: #D2E3FC;\n",
              "    }\n",
              "\n",
              "    [theme=dark] .colab-df-convert:hover {\n",
              "      background-color: #434B5C;\n",
              "      box-shadow: 0px 1px 3px 1px rgba(0, 0, 0, 0.15);\n",
              "      filter: drop-shadow(0px 1px 2px rgba(0, 0, 0, 0.3));\n",
              "      fill: #FFFFFF;\n",
              "    }\n",
              "  </style>\n",
              "\n",
              "      <script>\n",
              "        const buttonEl =\n",
              "          document.querySelector('#df-e3f45cb8-2fd2-4839-899d-25a5cfc7d23d button.colab-df-convert');\n",
              "        buttonEl.style.display =\n",
              "          google.colab.kernel.accessAllowed ? 'block' : 'none';\n",
              "\n",
              "        async function convertToInteractive(key) {\n",
              "          const element = document.querySelector('#df-e3f45cb8-2fd2-4839-899d-25a5cfc7d23d');\n",
              "          const dataTable =\n",
              "            await google.colab.kernel.invokeFunction('convertToInteractive',\n",
              "                                                     [key], {});\n",
              "          if (!dataTable) return;\n",
              "\n",
              "          const docLinkHtml = 'Like what you see? Visit the ' +\n",
              "            '<a target=\"_blank\" href=https://colab.research.google.com/notebooks/data_table.ipynb>data table notebook</a>'\n",
              "            + ' to learn more about interactive tables.';\n",
              "          element.innerHTML = '';\n",
              "          dataTable['output_type'] = 'display_data';\n",
              "          await google.colab.output.renderOutput(dataTable, element);\n",
              "          const docLink = document.createElement('div');\n",
              "          docLink.innerHTML = docLinkHtml;\n",
              "          element.appendChild(docLink);\n",
              "        }\n",
              "      </script>\n",
              "    </div>\n",
              "  </div>\n",
              "  "
            ]
          },
          "metadata": {},
          "execution_count": 125
        }
      ],
      "source": [
        "import scipy.sparse as sp\n",
        "import pandas as pd\n",
        "import numpy as np\n",
        "from tabulate import tabulate\n",
        "\n",
        "thedata = pd.read_csv('https://raw.githubusercontent.com/math-econ-code/mec_optim_2021-01/master/data_mec_optim/lp_stigler-diet/StiglerData1939.txt', sep='\\t')\n",
        "thedata = thedata.dropna(how = 'all')\n",
        "thedata.head()"
      ]
    },
    {
      "cell_type": "markdown",
      "metadata": {
        "id": "kke29AG-B94d"
      },
      "source": [
        "Our dataset has the nutritional content of $77$ commodities. The final row contains the daily minimum requirement of each of these nutrients:"
      ]
    },
    {
      "cell_type": "code",
      "execution_count": null,
      "metadata": {
        "colab": {
          "base_uri": "https://localhost:8080/"
        },
        "id": "WQen8zO5CCzU",
        "outputId": "059c0666-d6a2-4789-8e32-f16bb940c63b"
      },
      "outputs": [
        {
          "output_type": "execute_result",
          "data": {
            "text/plain": [
              "Calories (1000)         3.0\n",
              "Protein(grams)         70.0\n",
              "Calcium(grams)          0.8\n",
              "Iron(mg.)              12.0\n",
              "Vitamin A(1000 I.U)     5.0\n",
              "Thiamine(mg.)           1.8\n",
              "Riboflavin(mg.)         2.7\n",
              "Niacin(mg.)            18.0\n",
              "Asorbic Acid (mg.)     75.0\n",
              "Name: 77, dtype: float64"
            ]
          },
          "metadata": {},
          "execution_count": 126
        }
      ],
      "source": [
        "commodities = (thedata['Commodity'].values)[:-1]\n",
        "allowance = thedata.iloc[-1, 4:].fillna(0).transpose()\n",
        "allowance"
      ]
    },
    {
      "cell_type": "markdown",
      "metadata": {
        "id": "J0NTovJZC1wu"
      },
      "source": [
        "To solve the primal problem we need to construct the objects $N$ and $d$. $c$ is simply a vector of ones, the size of the number of commodities. $N$ is a matrix of amount of nutrients in each commodity. $d$ is the required daily allowance of each nutrient."
      ]
    },
    {
      "cell_type": "code",
      "execution_count": null,
      "metadata": {
        "id": "d_zS7c7zC2DJ"
      },
      "outputs": [],
      "source": [
        "N_i_j = thedata.iloc[:-1, 4:].fillna(0).transpose().values\n",
        "nbi, nbj = N_i_j.shape\n",
        "c_j = np.ones(nbj)\n",
        "d_i = np.array(allowance)"
      ]
    },
    {
      "cell_type": "markdown",
      "metadata": {
        "id": "QPkfn_x4CWSu"
      },
      "source": [
        "Using Gurobi, numerically solve the diet problem:"
      ]
    },
    {
      "cell_type": "code",
      "execution_count": null,
      "metadata": {
        "colab": {
          "base_uri": "https://localhost:8080/"
        },
        "id": "ousbmQH8CKj0",
        "outputId": "210275fb-c33a-4587-9b5b-94b31cbbe4ea"
      },
      "outputs": [
        {
          "output_type": "stream",
          "name": "stdout",
          "text": [
            "Gurobi Optimizer version 9.5.1 build v9.5.1rc2 (linux64)\n",
            "Thread count: 1 physical cores, 2 logical processors, using up to 2 threads\n",
            "Optimize a model with 9 rows, 77 columns and 570 nonzeros\n",
            "Model fingerprint: 0x7ae6b743\n",
            "Coefficient statistics:\n",
            "  Matrix range     [1e-01, 5e+03]\n",
            "  Objective range  [1e+00, 1e+00]\n",
            "  Bounds range     [0e+00, 0e+00]\n",
            "  RHS range        [8e-01, 8e+01]\n",
            "Presolve removed 0 rows and 47 columns\n",
            "Presolve time: 0.03s\n",
            "Presolved: 9 rows, 30 columns, 240 nonzeros\n",
            "\n",
            "Iteration    Objective       Primal Inf.    Dual Inf.      Time\n",
            "       0    0.0000000e+00   1.384688e+01   0.000000e+00      0s\n",
            "       5    1.0866228e-01   0.000000e+00   0.000000e+00      0s\n",
            "\n",
            "Solved in 5 iterations and 0.04 seconds (0.00 work units)\n",
            "Optimal objective  1.086622782e-01\n"
          ]
        }
      ],
      "source": [
        "dietmodel = grb.Model()\n",
        "varq_j = dietmodel.addMVar(nbj)\n",
        "dietmodel.setObjective(varq_j.sum(), grb.GRB.MINIMIZE)\n",
        "c = dietmodel.addConstr(N_i_j @ varq_j >= d_i)\n",
        "dietmodel.optimize()"
      ]
    },
    {
      "cell_type": "markdown",
      "metadata": {
        "id": "VzM8mPHTCfA5"
      },
      "source": [
        "Get the optimal solutions `x`, the dual solution `pi` and the value function `objval` by:"
      ]
    },
    {
      "cell_type": "code",
      "execution_count": null,
      "metadata": {
        "id": "FPHrDulyCjdi"
      },
      "outputs": [],
      "source": [
        "q_j , π_i, val = dietmodel.getAttr('X') , dietmodel.getAttr('pi'), dietmodel.getAttr('objVal')"
      ]
    },
    {
      "cell_type": "markdown",
      "metadata": {
        "id": "uwD93dhRDA0x"
      },
      "source": [
        "Print the optimal diet by:"
      ]
    },
    {
      "cell_type": "code",
      "execution_count": null,
      "metadata": {
        "colab": {
          "base_uri": "https://localhost:8080/"
        },
        "id": "ATZHL__oDHGi",
        "outputId": "74994c25-e858-44c4-b5f5-7d79e0699c31"
      },
      "outputs": [
        {
          "output_type": "stream",
          "name": "stdout",
          "text": [
            "***Optimal solution***\n",
            "-------------------------  -----------\n",
            "1. Wheat Flour (Enriched)   0.0295191\n",
            "30. Liver (Beef)            0.00189256\n",
            "46. Cabbage                 0.0112144\n",
            "52. Spinach                 0.00500766\n",
            "69. Navy Beans Dried        0.0610286\n",
            "Total cost (optimal):      39.6617\n",
            "-------------------------  -----------\n"
          ]
        }
      ],
      "source": [
        "def print_optimal_diet(q_j):\n",
        "    print('***Optimal solution***')\n",
        "    total,thelist = 0.0, []\n",
        "    for j,commodity in enumerate(commodities):\n",
        "        if q_j[j] > 0:\n",
        "            total += q_j[j] * 365\n",
        "            thelist.append([commodity,q_j[j]])\n",
        "    thelist.append(['Total cost (optimal):', total])\n",
        "    print(tabulate(thelist))\n",
        "\n",
        "print_optimal_diet(q_j)"
      ]
    },
    {
      "cell_type": "markdown",
      "metadata": {
        "id": "JALgR7bPArZZ"
      },
      "source": [
        "# Lecture 4: computation of a LP"
      ]
    },
    {
      "cell_type": "markdown",
      "metadata": {
        "id": "9s6AzWX-Ay8o"
      },
      "source": [
        "Compute the lp in lecture 4 using:"
      ]
    },
    {
      "cell_type": "code",
      "execution_count": null,
      "metadata": {
        "colab": {
          "base_uri": "https://localhost:8080/"
        },
        "id": "yx2CvbbcC3lS",
        "outputId": "8f4130a9-0656-4aea-fdbd-e8b689a773a8"
      },
      "outputs": [
        {
          "output_type": "stream",
          "name": "stdout",
          "text": [
            "Gurobi Optimizer version 9.5.1 build v9.5.1rc2 (linux64)\n",
            "Thread count: 1 physical cores, 2 logical processors, using up to 2 threads\n",
            "Optimize a model with 3 rows, 3 columns and 9 nonzeros\n",
            "Model fingerprint: 0x9a8abd8d\n",
            "Coefficient statistics:\n",
            "  Matrix range     [1e+00, 3e+00]\n",
            "  Objective range  [1e+00, 3e+00]\n",
            "  Bounds range     [0e+00, 0e+00]\n",
            "  RHS range        [1e+00, 5e+00]\n",
            "Presolve time: 0.03s\n",
            "Presolved: 3 rows, 3 columns, 9 nonzeros\n",
            "\n",
            "Iteration    Objective       Primal Inf.    Dual Inf.      Time\n",
            "       0   -1.0000000e+30   2.500000e+29   1.000000e+00      0s\n",
            "       2   -3.0000000e+00   0.000000e+00   0.000000e+00      0s\n",
            "\n",
            "Solved in 2 iterations and 0.04 seconds (0.00 work units)\n",
            "Optimal objective -3.000000000e+00\n"
          ]
        },
        {
          "output_type": "execute_result",
          "data": {
            "text/plain": [
              "[0.0, 0.0, 3.0]"
            ]
          },
          "metadata": {},
          "execution_count": 131
        }
      ],
      "source": [
        "d_i = np.array([5,3,-1])\n",
        "c_j = np.array([2,3,-1])\n",
        "A_i_j = np.array([[1,1,-1],[2,-3,1],[-1,2,-1]])\n",
        "model = grb.Model()\n",
        "x_j = model.addMVar(3)\n",
        "model.setObjective(c_j @ x_j, grb.GRB.MINIMIZE)\n",
        "model.addConstr(A_i_j @ x_j <= d_i)\n",
        "model.optimize()\n",
        "model.getAttr('x')"
      ]
    },
    {
      "cell_type": "markdown",
      "metadata": {
        "id": "Nw1ZjzLGE5t1"
      },
      "source": [
        "# Lecture 5: geometry of the simplex"
      ]
    },
    {
      "cell_type": "markdown",
      "metadata": {
        "id": "020UvBwAFiVG"
      },
      "source": [
        "Geometric plot of the feasible set in 2D:"
      ]
    },
    {
      "cell_type": "code",
      "execution_count": null,
      "metadata": {
        "colab": {
          "base_uri": "https://localhost:8080/"
        },
        "id": "6IbZBP4mFrc3",
        "outputId": "ca5ae52d-a42c-4216-abb1-0dc0e4fc2ecb"
      },
      "outputs": [
        {
          "output_type": "stream",
          "name": "stdout",
          "text": [
            "Requirement already satisfied: polytope in /usr/local/lib/python3.7/dist-packages (0.2.3)\n",
            "Requirement already satisfied: numpy>=1.10.0 in /usr/local/lib/python3.7/dist-packages (from polytope) (1.21.6)\n",
            "Requirement already satisfied: scipy>=0.18.0 in /usr/local/lib/python3.7/dist-packages (from polytope) (1.4.1)\n",
            "Requirement already satisfied: networkx>=1.6 in /usr/local/lib/python3.7/dist-packages (from polytope) (2.6.3)\n"
          ]
        }
      ],
      "source": [
        "!pip install polytope"
      ]
    },
    {
      "cell_type": "code",
      "execution_count": null,
      "metadata": {
        "colab": {
          "base_uri": "https://localhost:8080/",
          "height": 287
        },
        "id": "xDLSST-jFoPV",
        "outputId": "a83ce254-aae8-4818-af9d-8aaa5f9204ef"
      },
      "outputs": [
        {
          "output_type": "execute_result",
          "data": {
            "text/plain": [
              "<matplotlib.axes._subplots.AxesSubplot at 0x7f06d41df990>"
            ]
          },
          "metadata": {},
          "execution_count": 133
        },
        {
          "output_type": "display_data",
          "data": {
            "text/plain": [
              "<Figure size 432x288 with 1 Axes>"
            ],
            "image/png": "[encoded data removed]"
          },
          "metadata": {
            "needs_background": "light"
          }
        }
      ],
      "source": [
        "import polytope as pc\n",
        "p1 = pc.Polytope(np.array([[-1.,0],[0,-1.], [1.,2.],[2., 1.]]), np.array([0,0,2.,2.]))\n",
        "p1.plot()"
      ]
    },
    {
      "cell_type": "markdown",
      "metadata": {
        "id": "KNgTQW3UD51v"
      },
      "source": [
        "# Lectures 8 and 9: matrix games"
      ]
    },
    {
      "cell_type": "code",
      "execution_count": null,
      "metadata": {
        "colab": {
          "base_uri": "https://localhost:8080/"
        },
        "id": "RQj3LdnDEgJ2",
        "outputId": "013499c8-aa7a-42e0-f668-8254bbbabb7c"
      },
      "outputs": [
        {
          "output_type": "execute_result",
          "data": {
            "text/plain": [
              "array([[ 50. , 100. ,  93.8],\n",
              "       [ 93.9,  60. ,  82.8],\n",
              "       [ 97.6, 100. ,  73.2]])"
            ]
          },
          "metadata": {},
          "execution_count": 134
        }
      ],
      "source": [
        "Pi_i_j = np.array([[50, 100, 93.8], \n",
        "                    [93.9, 60.0, 82.8], \n",
        "                    [97.6, 100, 73.2]])\n",
        "Pi_i_j"
      ]
    },
    {
      "cell_type": "markdown",
      "metadata": {
        "id": "w3A9UAx-FELd"
      },
      "source": [
        "Compute using:"
      ]
    },
    {
      "cell_type": "code",
      "execution_count": null,
      "metadata": {
        "colab": {
          "base_uri": "https://localhost:8080/"
        },
        "id": "SKRcrYy0WK6u",
        "outputId": "c4f4d440-f13d-4765-f8ab-4933c9a84e34"
      },
      "outputs": [
        {
          "output_type": "stream",
          "name": "stdout",
          "text": [
            "Gurobi Optimizer version 9.5.1 build v9.5.1rc2 (linux64)\n",
            "Thread count: 1 physical cores, 2 logical processors, using up to 2 threads\n",
            "Optimize a model with 4 rows, 4 columns and 15 nonzeros\n",
            "Model fingerprint: 0xc617c31e\n",
            "Coefficient statistics:\n",
            "  Matrix range     [1e+00, 1e+02]\n",
            "  Objective range  [1e+00, 1e+00]\n",
            "  Bounds range     [0e+00, 0e+00]\n",
            "  RHS range        [1e+00, 1e+00]\n",
            "Presolve removed 1 rows and 0 columns\n",
            "Presolve time: 0.02s\n",
            "Presolved: 3 rows, 4 columns, 11 nonzeros\n",
            "\n",
            "Iteration    Objective       Primal Inf.    Dual Inf.      Time\n",
            "       0    9.7600000e+01   3.050000e+00   0.000000e+00      0s\n",
            "       2    8.2949748e+01   0.000000e+00   0.000000e+00      0s\n",
            "\n",
            "Solved in 2 iterations and 0.04 seconds (0.00 work units)\n",
            "Optimal objective  8.294974813e+01\n"
          ]
        }
      ],
      "source": [
        "matrixgame_model = grb.Model()\n",
        "nbi,nbj = Pi_i_j.shape\n",
        "p_iv = matrixgame_model.addMVar(shape = nbi)\n",
        "sv = matrixgame_model.addMVar(1, lb = - grb.GRB.INFINITY )\n",
        "matrixgame_model.setObjective(sv, grb.GRB.MAXIMIZE)\n",
        "matrixgame_model.addConstr( np.ones( (nbj,1) ) @ sv - Pi_i_j.T @ p_iv   <=0  )\n",
        "matrixgame_model.addConstr( p_iv.sum()==1 )\n",
        "matrixgame_model.optimize() \n",
        "\n"
      ]
    },
    {
      "cell_type": "code",
      "execution_count": null,
      "metadata": {
        "colab": {
          "base_uri": "https://localhost:8080/"
        },
        "id": "oPJBiZm2W2qW",
        "outputId": "091d00cb-44e5-43f6-ea4c-b460658c13b7"
      },
      "outputs": [
        {
          "output_type": "execute_result",
          "data": {
            "text/plain": [
              "array([0.27465, 0.42626, 0.2991 ])"
            ]
          },
          "metadata": {},
          "execution_count": 136
        }
      ],
      "source": [
        "p_i = np.array(matrixgame_model.getAttr('x'))[:-1]\n",
        "p_i"
      ]
    },
    {
      "cell_type": "code",
      "execution_count": null,
      "metadata": {
        "colab": {
          "base_uri": "https://localhost:8080/"
        },
        "id": "TZtdV5soXJP4",
        "outputId": "f3b4cc94-86b4-4ce8-d7fc-0b7c5c9735ad"
      },
      "outputs": [
        {
          "output_type": "execute_result",
          "data": {
            "text/plain": [
              "array([0.26506, 0.12247, 0.61247])"
            ]
          },
          "metadata": {},
          "execution_count": 137
        }
      ],
      "source": [
        "q_j = np.array(matrixgame_model.getAttr('pi'))[:-1]\n",
        "q_j"
      ]
    },
    {
      "cell_type": "code",
      "execution_count": null,
      "metadata": {
        "colab": {
          "base_uri": "https://localhost:8080/"
        },
        "id": "Tmo379_FXX5l",
        "outputId": "37d6996a-1e46-49a9-9806-4dccd6e2f5a7"
      },
      "outputs": [
        {
          "output_type": "execute_result",
          "data": {
            "text/plain": [
              "82.94974812946724"
            ]
          },
          "metadata": {},
          "execution_count": 138
        }
      ],
      "source": [
        "np.array(matrixgame_model.getAttr('x'))[-1]"
      ]
    },
    {
      "cell_type": "code",
      "execution_count": null,
      "metadata": {
        "colab": {
          "base_uri": "https://localhost:8080/"
        },
        "id": "nJZnLsr6XVVg",
        "outputId": "6de20962-385f-42eb-b10b-0e9d6b899bb1"
      },
      "outputs": [
        {
          "output_type": "execute_result",
          "data": {
            "text/plain": [
              "82.94974812946725"
            ]
          },
          "metadata": {},
          "execution_count": 139
        }
      ],
      "source": [
        "np.array(matrixgame_model.getAttr('pi'))[-1]"
      ]
    },
    {
      "cell_type": "code",
      "execution_count": null,
      "metadata": {
        "colab": {
          "base_uri": "https://localhost:8080/"
        },
        "id": "mCqXSEgFG8xd",
        "outputId": "2eff8b0c-46d7-4aee-8bb0-8407379b9d24"
      },
      "outputs": [
        {
          "output_type": "stream",
          "name": "stdout",
          "text": [
            "[0.27465 0.42626 0.2991 ] [0.26506 0.12247 0.61247] [82.94975]\n"
          ]
        }
      ],
      "source": [
        "matrixgame_model = grb.Model()\n",
        "matrixgame_model.Params.OutputFlag = 0 # for silent execution\n",
        "nbi,nbj = Pi_i_j.shape\n",
        "p_iv = matrixgame_model.addMVar(shape = nbi)\n",
        "sv = matrixgame_model.addMVar(1, lb = - grb.GRB.INFINITY )\n",
        "matrixgame_model.setObjective(sv, grb.GRB.MAXIMIZE)\n",
        "matrixgame_model.addConstr( np.ones( (nbj,1) ) @ sv - Pi_i_j.T @ p_iv   <=0  )\n",
        "matrixgame_model.addConstr( p_iv.sum()==1 )\n",
        "\n",
        "matrixgame_model.optimize() \n",
        "p_i = np.array(matrixgame_model.getAttr('x'))[:-1]\n",
        "S = np.array(matrixgame_model.getAttr('x'))[-1:]\n",
        "q_j = np.array(matrixgame_model.getAttr('pi'))[:-1]\n",
        "print(p_i,q_j,S)"
      ]
    },
    {
      "cell_type": "code",
      "execution_count": null,
      "metadata": {
        "colab": {
          "base_uri": "https://localhost:8080/"
        },
        "id": "txKqdM0NFam7",
        "outputId": "c053e9a7-d00e-4887-cf6e-2c1e157a3916"
      },
      "outputs": [
        {
          "output_type": "stream",
          "name": "stdout",
          "text": [
            "[0.27465 0.42626 0.2991 ] [0.26506 0.12247 0.61247] 82.94974812946724\n"
          ]
        }
      ],
      "source": [
        "Pi_i_j = np.array([[50, 100, 93.8], [93.9, 60.0, 82.8], [97.6, 100, 73.2]])\n",
        "\n",
        "matrixgame_model_bis=grb.Model()\n",
        "matrixgame_model_bis.Params.OutputFlag = 0 # for silent execution\n",
        "nbi,nbj = Pi_i_j.shape\n",
        "x = matrixgame_model_bis.addMVar(shape=nbi)\n",
        "matrixgame_model_bis.setObjective( x.sum(), grb.GRB.MINIMIZE)\n",
        "matrixgame_model_bis.addConstr(Pi_i_j.T @ x >= np.ones(nbj))\n",
        "matrixgame_model_bis.optimize() \n",
        "xstar = np.array(matrixgame_model_bis.getAttr('x'))\n",
        "ystar = np.array(matrixgame_model_bis.getAttr('pi'))\n",
        "S = 1 /  xstar.sum()\n",
        "p_i = S * xstar\n",
        "q_j = S * ystar\n",
        "print(p_i,q_j,S)\n"
      ]
    },
    {
      "cell_type": "markdown",
      "metadata": {
        "id": "RcRi67lQD3OP"
      },
      "source": [
        "# Lecture 10\n",
        "\n",
        "Network flow problems."
      ]
    },
    {
      "cell_type": "code",
      "execution_count": null,
      "metadata": {
        "id": "xjd71Ts0D7JL"
      },
      "outputs": [],
      "source": [
        "    M_z_a = np.array(\n",
        "    [[-1,0,0,0,0,0,0,0,0,0],\n",
        "    [0,-1,-1,0,0,0,0,0,0,0],\n",
        "    [0,0,0,-1,-1,0,0,0,0,0],\n",
        "    [1,1,0,1,0,-1,-1,0,0,0],\n",
        "    [0,0,1,0,1,0,0,-1,-1,-1],\n",
        "    [0,0,0,0,0,1,0,1,0,0],\n",
        "    [0,0,0,0,0,0,1,0,1,0],\n",
        "    [0,0,0,0,0,0,0,0,0,1]])\n",
        "    "
      ]
    },
    {
      "cell_type": "code",
      "execution_count": null,
      "metadata": {
        "id": "dyeEWmoBFpoQ"
      },
      "outputs": [],
      "source": [
        "q_z = np.array([-35,\t-20,\t-15,\t0\t, 0,\t30,\t15,\t25])"
      ]
    },
    {
      "cell_type": "code",
      "execution_count": null,
      "metadata": {
        "id": "S8aTPXwEFyg3"
      },
      "outputs": [],
      "source": [
        "c_a = np.array([2,\t7,\t11,\t6,\t8,\t9,\t7,\t8,\t12,\t3])"
      ]
    },
    {
      "cell_type": "code",
      "execution_count": null,
      "metadata": {
        "colab": {
          "base_uri": "https://localhost:8080/"
        },
        "id": "ipvzRM4OGAoN",
        "outputId": "7bd9f917-6e65-4d00-d3eb-ed6590d8b0e2"
      },
      "outputs": [
        {
          "output_type": "stream",
          "name": "stdout",
          "text": [
            "Gurobi Optimizer version 9.5.1 build v9.5.1rc2 (linux64)\n",
            "Thread count: 1 physical cores, 2 logical processors, using up to 2 threads\n",
            "Optimize a model with 8 rows, 10 columns and 20 nonzeros\n",
            "Model fingerprint: 0x90167b7f\n",
            "Coefficient statistics:\n",
            "  Matrix range     [1e+00, 1e+00]\n",
            "  Objective range  [2e+00, 1e+01]\n",
            "  Bounds range     [0e+00, 0e+00]\n",
            "  RHS range        [2e+01, 4e+01]\n",
            "Presolve removed 6 rows and 6 columns\n",
            "Presolve time: 0.02s\n",
            "Presolved: 2 rows, 4 columns, 8 nonzeros\n",
            "\n",
            "Iteration    Objective       Primal Inf.    Dual Inf.      Time\n",
            "       0    7.8993300e+02   4.005600e+01   0.000000e+00      0s\n",
            "       1    8.2000000e+02   0.000000e+00   0.000000e+00      0s\n",
            "\n",
            "Solved in 1 iterations and 0.03 seconds (0.00 work units)\n",
            "Optimal objective  8.200000000e+02\n"
          ]
        }
      ],
      "source": [
        "mincostflow =grb.Model()\n",
        "nbz,nba = M_z_a.shape\n",
        "mu_a = mincostflow.addMVar(shape=nba)\n",
        "mincostflow.setObjective( mu_a @ c_a, grb.GRB.MINIMIZE)\n",
        "mincostflow.addConstr(M_z_a @ mu_a == q_z)\n",
        "mincostflow.optimize() "
      ]
    },
    {
      "cell_type": "code",
      "execution_count": null,
      "metadata": {
        "colab": {
          "base_uri": "https://localhost:8080/"
        },
        "id": "fZGzTIzyGdBh",
        "outputId": "cfe94e2c-12bb-47b1-f8c6-4aee3c800104"
      },
      "outputs": [
        {
          "output_type": "execute_result",
          "data": {
            "text/plain": [
              "array([35., 10., 10.,  0., 15., 30., 15.,  0.,  0., 25.])"
            ]
          },
          "metadata": {},
          "execution_count": 146
        }
      ],
      "source": [
        "musol_a = np.array(mincostflow.getAttr('x'))\n",
        "musol_a"
      ]
    },
    {
      "cell_type": "code",
      "execution_count": null,
      "metadata": {
        "colab": {
          "base_uri": "https://localhost:8080/"
        },
        "id": "6XcN_PIpG4k0",
        "outputId": "c9649e8f-7d24-4b54-ae3a-c3b234d798cd"
      },
      "outputs": [
        {
          "output_type": "execute_result",
          "data": {
            "text/plain": [
              "array([ -6., -11.,  -8.,  -4.,   0.,   5.,   3.,   3.])"
            ]
          },
          "metadata": {},
          "execution_count": 147
        }
      ],
      "source": [
        "psol_z = np.array(mincostflow.getAttr('pi'))\n",
        "psol_z"
      ]
    },
    {
      "cell_type": "markdown",
      "metadata": {
        "id": "_UnJvLCpRz-v"
      },
      "source": [
        "# Lecture 11: Shortest paths; matching models"
      ]
    },
    {
      "cell_type": "markdown",
      "metadata": {
        "id": "zPuLbcCFUvkW"
      },
      "source": [
        "Load subway data:"
      ]
    },
    {
      "cell_type": "code",
      "execution_count": null,
      "metadata": {
        "id": "0W2JynXyRzIP"
      },
      "outputs": [],
      "source": [
        "thepath = 'https://raw.githubusercontent.com/math-econ-code/mec_optim_2021-01/master/data_mec_optim/'\n",
        "arcs_data = pd.read_csv(thepath+'networks_subway/NYC/arcs.csv', sep=',')#.sort_values(by=['route_id'])\n",
        "nodes_data = pd.read_csv(thepath+ 'networks_subway/NYC/nodes.csv', sep=',')\n",
        "nodes_names = [i+' '+j for i,j in zip(nodes_data.stop_name,nodes_data.route_id)]\n",
        "arcs = [(o-1,d-1) for (o,d) in list(zip(arcs_data.from_stop_nb,arcs_data.to_stop_nb))]\n",
        "nbNodes,nbArcs = len(nodes_names),len(arcs)"
      ]
    },
    {
      "cell_type": "code",
      "source": [
        "nbNodes,nbArcs"
      ],
      "metadata": {
        "colab": {
          "base_uri": "https://localhost:8080/"
        },
        "id": "YxzLZtnwZXl2",
        "outputId": "11635713-515b-455b-eace-60c45471f10d"
      },
      "execution_count": null,
      "outputs": [
        {
          "output_type": "execute_result",
          "data": {
            "text/plain": [
              "(501, 1290)"
            ]
          },
          "metadata": {},
          "execution_count": 149
        }
      ]
    },
    {
      "cell_type": "markdown",
      "metadata": {
        "id": "JDpQ8X4PUxld"
      },
      "source": [
        "Input it:"
      ]
    },
    {
      "cell_type": "code",
      "execution_count": null,
      "metadata": {
        "id": "A4yEyj7WSiX8"
      },
      "outputs": [],
      "source": [
        "c_a = np.array(arcs_data.dis_line)\n",
        "M_z_a = spr.csr_matrix((np.concatenate([-np.ones(nbArcs),np.ones(nbArcs)]), \n",
        "                        ( [o for o,d in arcs]+[d for o,d in arcs],list(range(nbArcs))+list(range(nbArcs)))), \n",
        "                       shape = (nbNodes,nbArcs))"
      ]
    },
    {
      "cell_type": "code",
      "execution_count": null,
      "metadata": {
        "id": "GnPWo1DFbEX6",
        "colab": {
          "base_uri": "https://localhost:8080/"
        },
        "outputId": "1aa3d71f-d9c6-41b8-99c6-631b9348bb72"
      },
      "outputs": [
        {
          "output_type": "stream",
          "name": "stdout",
          "text": [
            "origin = 8 St - NYU (N/R) ; destination = 116 St - Columbia University (1)\n"
          ]
        }
      ],
      "source": [
        "origin_node,destination_node = (452, 14)\n",
        "print('origin = '+nodes_names[origin_node] + ' ; destination = ' + nodes_names[destination_node])\n",
        "q_z = np.zeros(nbNodes)\n",
        "q_z[origin_node] = -1\n",
        "q_z[destination_node] = 1"
      ]
    },
    {
      "cell_type": "code",
      "execution_count": null,
      "metadata": {
        "colab": {
          "base_uri": "https://localhost:8080/"
        },
        "id": "hRIX2b6kbI89",
        "outputId": "7effc295-c275-467b-87f8-9929f486cb0c"
      },
      "outputs": [
        {
          "output_type": "stream",
          "name": "stdout",
          "text": [
            "Gurobi Optimizer version 9.5.1 build v9.5.1rc2 (linux64)\n",
            "Thread count: 1 physical cores, 2 logical processors, using up to 2 threads\n",
            "Optimize a model with 501 rows, 1290 columns and 2580 nonzeros\n",
            "Model fingerprint: 0x90d46ae6\n",
            "Coefficient statistics:\n",
            "  Matrix range     [1e+00, 1e+00]\n",
            "  Objective range  [1e-01, 2e+04]\n",
            "  Bounds range     [0e+00, 0e+00]\n",
            "  RHS range        [1e+00, 1e+00]\n",
            "Presolve removed 357 rows and 714 columns\n",
            "Presolve time: 0.02s\n",
            "Presolved: 144 rows, 576 columns, 1152 nonzeros\n",
            "\n",
            "Iteration    Objective       Primal Inf.    Dual Inf.      Time\n",
            "       0    0.0000000e+00   2.000000e+00   0.000000e+00      0s\n",
            "      43    2.3979662e+04   0.000000e+00   0.000000e+00      0s\n",
            "\n",
            "Solved in 43 iterations and 0.05 seconds (0.00 work units)\n",
            "Optimal objective  2.397966180e+04\n"
          ]
        }
      ],
      "source": [
        "m=grb.Model()\n",
        "mu_a = m.addMVar(shape=nbArcs)\n",
        "m.setObjective(c_a @ mu_a, grb.GRB.MINIMIZE)\n",
        "m.addConstr( M_z_a @ mu_a == q_z)\n",
        "m.optimize()\n",
        "if m.status == grb.GRB.Status.OPTIMAL:\n",
        "    mustar_a = m.getAttr('x')\n",
        "    pstar_z = m.getAttr('pi')\n"
      ]
    },
    {
      "cell_type": "code",
      "execution_count": null,
      "metadata": {
        "colab": {
          "base_uri": "https://localhost:8080/"
        },
        "id": "7WvO-cwvbM01",
        "outputId": "452e4173-91b3-499e-ca2b-5f9db6c2d062"
      },
      "outputs": [
        {
          "output_type": "execute_result",
          "data": {
            "text/plain": [
              "['8 St - NYU (N/R)',\n",
              " '14 St - Union Sq (N/R/Q)',\n",
              " '34 St - Herald Sq (Q/N)',\n",
              " 'Times Sq - 42 St (R/Q)',\n",
              " 'Times Sq - 42 St (1/3)',\n",
              " '72 St (1/2)',\n",
              " '96 St (2/1/3)',\n",
              " '103 St (1)',\n",
              " 'Cathedral Pkwy (1)',\n",
              " '116 St - Columbia University (1)']"
            ]
          },
          "metadata": {},
          "execution_count": 153
        }
      ],
      "source": [
        "def pathfinder(mu,sind,tind):\n",
        "    t = tind\n",
        "    arcs_active = [(x,y) for (a,(x,y)) in zip(range(nbArcs),arcs) if (mu[a] > 0) ]\n",
        "    current = sind\n",
        "    path = [nodes_names[current]]\n",
        "    while current != t:\n",
        "        (x,y) = next((x,y) for (x,y) in arcs_active if x==current)\n",
        "        path.append(nodes_names[y])\n",
        "        current = y\n",
        "        arcs_active.remove((x,y))\n",
        "    return path\n",
        "\n",
        "pathfinder(mustar_a,origin_node,destination_node)  "
      ]
    },
    {
      "cell_type": "markdown",
      "source": [
        "## Shortest path via dynamic programming"
      ],
      "metadata": {
        "id": "URs8KDunGo6X"
      }
    },
    {
      "cell_type": "code",
      "source": [
        "def shortestPathDP(origin_node,destination_node):\n",
        "    successor = {z: None for z in range(nbNodes)}\n",
        "    C_z = np.inf * np.ones(nbNodes)\n",
        "    C_z[destination_node] = 0\n",
        "    delta_x_y = np.zeros((nbNodes,nbNodes))\n",
        "    update = True\n",
        "    while update:\n",
        "        update = False\n",
        "        for a,(x,y) in zip(range(nbArcs),arcs):\n",
        "            if c_a[a]  +  C_z[y]  < C_z[x]:\n",
        "                update = True\n",
        "                C_z[x] = c_a[a ] +  C_z[y]\n",
        "                successor[x]=y\n",
        "\n",
        "    z = origin_node\n",
        "    path = [nodes_names[z]]\n",
        "    while (successor[z] != destination_node):\n",
        "        z = successor[z] \n",
        "        path.append(nodes_names[z])\n",
        "    path.append(nodes_names[destination_node])\n",
        "    print(\"Cost = \",C_z[origin_node])\n",
        "    return path\n",
        "\n",
        "shortestPathDP(origin_node,destination_node)"
      ],
      "metadata": {
        "id": "bGqDNhqDGuuA",
        "colab": {
          "base_uri": "https://localhost:8080/"
        },
        "outputId": "f68f88b0-35a5-4249-8f21-80b3716a68de"
      },
      "execution_count": null,
      "outputs": [
        {
          "output_type": "stream",
          "name": "stdout",
          "text": [
            "Cost =  23979.661803262097\n"
          ]
        },
        {
          "output_type": "execute_result",
          "data": {
            "text/plain": [
              "['8 St - NYU (N/R)',\n",
              " '14 St - Union Sq (N/R/Q)',\n",
              " '34 St - Herald Sq (Q/N)',\n",
              " 'Times Sq - 42 St (R/Q)',\n",
              " 'Times Sq - 42 St (1/3)',\n",
              " '72 St (1/2)',\n",
              " '96 St (2/1/3)',\n",
              " '103 St (1)',\n",
              " 'Cathedral Pkwy (1)',\n",
              " '116 St - Columbia University (1)']"
            ]
          },
          "metadata": {},
          "execution_count": 154
        }
      ]
    },
    {
      "cell_type": "markdown",
      "source": [
        "# Lecture 14: Review for midterm (practice midterm)"
      ],
      "metadata": {
        "id": "fOy1DCPtlSVu"
      }
    },
    {
      "cell_type": "code",
      "source": [
        "Pi_i_j = np.array([[-1,1], \n",
        "                    [2,-2]])\n",
        "Pi_i_j"
      ],
      "metadata": {
        "colab": {
          "base_uri": "https://localhost:8080/"
        },
        "id": "Gcui61V7lRmK",
        "outputId": "5ef57139-7f2d-4331-af4e-f2c1e3cae0ef"
      },
      "execution_count": null,
      "outputs": [
        {
          "output_type": "execute_result",
          "data": {
            "text/plain": [
              "array([[-1,  1],\n",
              "       [ 2, -2]])"
            ]
          },
          "metadata": {},
          "execution_count": 155
        }
      ]
    },
    {
      "cell_type": "code",
      "source": [
        "matrixgame_model = grb.Model()\n",
        "nbi,nbj = Pi_i_j.shape\n",
        "p_iv = matrixgame_model.addMVar(shape = nbi)\n",
        "sv = matrixgame_model.addMVar(1, lb = - grb.GRB.INFINITY )\n",
        "matrixgame_model.setObjective(sv, grb.GRB.MAXIMIZE)\n",
        "matrixgame_model.addConstr( np.ones( (nbj,1) ) @ sv - Pi_i_j.T @ p_iv   <=0  )\n",
        "matrixgame_model.addConstr( p_iv.sum()==1 )\n",
        "matrixgame_model.optimize() "
      ],
      "metadata": {
        "colab": {
          "base_uri": "https://localhost:8080/"
        },
        "id": "u9ee7jCSlnBI",
        "outputId": "11ddae87-d735-40cd-d42b-ab6a4762b0ca"
      },
      "execution_count": null,
      "outputs": [
        {
          "output_type": "stream",
          "name": "stdout",
          "text": [
            "Gurobi Optimizer version 9.5.1 build v9.5.1rc2 (linux64)\n",
            "Thread count: 1 physical cores, 2 logical processors, using up to 2 threads\n",
            "Optimize a model with 3 rows, 3 columns and 8 nonzeros\n",
            "Model fingerprint: 0x76637c3f\n",
            "Coefficient statistics:\n",
            "  Matrix range     [1e+00, 2e+00]\n",
            "  Objective range  [1e+00, 1e+00]\n",
            "  Bounds range     [0e+00, 0e+00]\n",
            "  RHS range        [1e+00, 1e+00]\n",
            "Presolve removed 2 rows and 1 columns\n",
            "Presolve time: 0.03s\n",
            "Presolved: 1 rows, 2 columns, 2 nonzeros\n",
            "\n",
            "Iteration    Objective       Primal Inf.    Dual Inf.      Time\n",
            "       0   -0.0000000e+00   0.000000e+00   0.000000e+00      0s\n",
            "       0   -0.0000000e+00   0.000000e+00   0.000000e+00      0s\n",
            "\n",
            "Solved in 0 iterations and 0.04 seconds (0.00 work units)\n",
            "Optimal objective -0.000000000e+00\n"
          ]
        }
      ]
    },
    {
      "cell_type": "code",
      "source": [
        "y_i = np.array(matrixgame_model.getAttr('x'))[:-1]\n",
        "y_i"
      ],
      "metadata": {
        "colab": {
          "base_uri": "https://localhost:8080/"
        },
        "id": "_-OJR6ikl2zJ",
        "outputId": "3735f95d-037c-4e8b-8377-c0f96cdccdd0"
      },
      "execution_count": null,
      "outputs": [
        {
          "output_type": "execute_result",
          "data": {
            "text/plain": [
              "array([0.66667, 0.33333])"
            ]
          },
          "metadata": {},
          "execution_count": 157
        }
      ]
    },
    {
      "cell_type": "code",
      "source": [
        "x_j = np.array(matrixgame_model.getAttr('pi'))[:-1]\n",
        "x_j"
      ],
      "metadata": {
        "colab": {
          "base_uri": "https://localhost:8080/"
        },
        "id": "a3OJYvUml4Ch",
        "outputId": "fe195a97-0fab-4a81-8554-be7f89dee21e"
      },
      "execution_count": null,
      "outputs": [
        {
          "output_type": "execute_result",
          "data": {
            "text/plain": [
              "array([0.5, 0.5])"
            ]
          },
          "metadata": {},
          "execution_count": 158
        }
      ]
    },
    {
      "cell_type": "markdown",
      "source": [
        "# Midterm numerical questions"
      ],
      "metadata": {
        "id": "OTVPtm-3zUnW"
      }
    },
    {
      "cell_type": "markdown",
      "source": [
        "## Question 3"
      ],
      "metadata": {
        "id": "2-ljNDkvRZwy"
      }
    },
    {
      "cell_type": "code",
      "source": [
        "y_i = np.array([1,2,3,4,5])\n",
        "#c_j = np.array([2,3,-1])\n",
        "\n",
        "model = grb.Model()\n",
        "t = model.addMVar(1,lb = - grb.GRB.INFINITY)\n",
        "a_i = model.addMVar(5)\n",
        "\n",
        "model.setObjective(a_i.sum(), grb.GRB.MINIMIZE)\n",
        "model.addConstr(np.eye(5) @ a_i + np.ones((5,1)) @ t >= y_i)\n",
        "model.addConstr(np.eye(5) @ a_i - np.ones((5,1)) @ t >= - y_i)\n",
        "\n",
        "model.optimize()\n",
        "print('value of the problem =', model.getAttr('objVal'))\n",
        "print('value of t =', t.X.item() )"
      ],
      "metadata": {
        "colab": {
          "base_uri": "https://localhost:8080/"
        },
        "id": "VN19WadIRbit",
        "outputId": "d0c4f23a-d80a-47e2-a6dc-72b6dd12fa75"
      },
      "execution_count": null,
      "outputs": [
        {
          "output_type": "stream",
          "name": "stdout",
          "text": [
            "Gurobi Optimizer version 9.5.1 build v9.5.1rc2 (linux64)\n",
            "Thread count: 1 physical cores, 2 logical processors, using up to 2 threads\n",
            "Optimize a model with 10 rows, 6 columns and 20 nonzeros\n",
            "Model fingerprint: 0x11410b79\n",
            "Coefficient statistics:\n",
            "  Matrix range     [1e+00, 1e+00]\n",
            "  Objective range  [1e+00, 1e+00]\n",
            "  Bounds range     [0e+00, 0e+00]\n",
            "  RHS range        [1e+00, 5e+00]\n",
            "Presolve removed 1 rows and 0 columns\n",
            "Presolve time: 0.02s\n",
            "Presolved: 9 rows, 6 columns, 26 nonzeros\n",
            "\n",
            "Iteration    Objective       Primal Inf.    Dual Inf.      Time\n",
            "       0    0.0000000e+00   1.000000e+01   0.000000e+00      0s\n",
            "       5    6.0000000e+00   0.000000e+00   0.000000e+00      0s\n",
            "\n",
            "Solved in 5 iterations and 0.05 seconds (0.00 work units)\n",
            "Optimal objective  6.000000000e+00\n",
            "value of the problem = 6.0\n",
            "value of t = 3.0\n"
          ]
        }
      ]
    },
    {
      "cell_type": "code",
      "source": [],
      "metadata": {
        "id": "14TqDJHwTF-5"
      },
      "execution_count": null,
      "outputs": []
    },
    {
      "cell_type": "markdown",
      "source": [
        "## Question 5"
      ],
      "metadata": {
        "id": "kiRKWO8L7-W5"
      }
    },
    {
      "cell_type": "code",
      "source": [
        "Pi_i_j = np.array([[2,0,2,0],\n",
        "[1,0,0,1],\n",
        "[0,3,3,0],\n",
        "[0,4,0,4]])\n",
        "\n",
        "matrixgame_model = grb.Model()\n",
        "matrixgame_model.Params.OutputFlag = 0 # for silent execution\n",
        "nbi,nbj = Pi_i_j.shape\n",
        "p_iv = matrixgame_model.addMVar(shape = nbi)\n",
        "sv = matrixgame_model.addMVar(1, lb = - grb.GRB.INFINITY )\n",
        "matrixgame_model.setObjective(sv, grb.GRB.MINIMIZE)\n",
        "matrixgame_model.addConstr( np.ones( (nbj,1) ) @ sv - Pi_i_j.T @ p_iv   >=0  )\n",
        "matrixgame_model.addConstr( p_iv.sum()==1 )\n",
        "\n",
        "matrixgame_model.optimize() \n",
        "p_i = np.array(matrixgame_model.getAttr('x'))[:-1]\n",
        "S = np.array(matrixgame_model.getAttr('x'))[-1:]\n",
        "q_j = np.array(matrixgame_model.getAttr('pi'))[:-1]\n",
        "print(p_i,q_j,S)\n"
      ],
      "metadata": {
        "colab": {
          "base_uri": "https://localhost:8080/"
        },
        "id": "xGO0zXML8Adl",
        "outputId": "11f492af-7303-4a63-bd64-313779c747f1"
      },
      "execution_count": null,
      "outputs": [
        {
          "output_type": "stream",
          "name": "stdout",
          "text": [
            "[0.   0.75 0.25 0.  ] [0.75 0.25 0.   0.  ] [0.75]\n"
          ]
        }
      ]
    },
    {
      "cell_type": "markdown",
      "source": [
        "## Question 6"
      ],
      "metadata": {
        "id": "Nl14VCeVzX_n"
      }
    },
    {
      "cell_type": "code",
      "source": [
        "nbi = 5\n",
        "nbj = 4\n",
        "C_i_j = np.array([[10,45,15,10],\n",
        "[5,25,30,25],\n",
        "[35,15,20,15],\n",
        "[75,40,35,30],\n",
        "[20,60,5,65]]\n",
        ")\n",
        "nba = nbi*nbj\n",
        "nbz = nbi+nbj\n",
        "M_z_a = np.zeros((nbz,nba))\n",
        "c_a = np.zeros(nba)\n",
        "p_i = np.array([3,4,6,2,5])\n",
        "q_j = np.array([3,7,6,4])\n",
        "q_z = np.zeros(nbz)\n",
        "a = 0\n",
        "for i in range(nbi):\n",
        "  for j in range(nbj):\n",
        "    M_z_a[i,a] = -1\n",
        "    M_z_a[j+nbi,a] = 1\n",
        "    c_a[a] = C_i_j[i,j]\n",
        "    q_z[i] = - p_i[i]\n",
        "    q_z[nbi+j] = q_j[j]\n",
        "    a = a+1\n",
        "M_z_a"
      ],
      "metadata": {
        "colab": {
          "base_uri": "https://localhost:8080/"
        },
        "id": "5oA7oBpszXIh",
        "outputId": "4ff10a5b-0a93-4ba7-91a4-f9d9f89663d2"
      },
      "execution_count": null,
      "outputs": [
        {
          "output_type": "execute_result",
          "data": {
            "text/plain": [
              "array([[-1., -1., -1., -1.,  0.,  0.,  0.,  0.,  0.,  0.,  0.,  0.,  0.,\n",
              "         0.,  0.,  0.,  0.,  0.,  0.,  0.],\n",
              "       [ 0.,  0.,  0.,  0., -1., -1., -1., -1.,  0.,  0.,  0.,  0.,  0.,\n",
              "         0.,  0.,  0.,  0.,  0.,  0.,  0.],\n",
              "       [ 0.,  0.,  0.,  0.,  0.,  0.,  0.,  0., -1., -1., -1., -1.,  0.,\n",
              "         0.,  0.,  0.,  0.,  0.,  0.,  0.],\n",
              "       [ 0.,  0.,  0.,  0.,  0.,  0.,  0.,  0.,  0.,  0.,  0.,  0., -1.,\n",
              "        -1., -1., -1.,  0.,  0.,  0.,  0.],\n",
              "       [ 0.,  0.,  0.,  0.,  0.,  0.,  0.,  0.,  0.,  0.,  0.,  0.,  0.,\n",
              "         0.,  0.,  0., -1., -1., -1., -1.],\n",
              "       [ 1.,  0.,  0.,  0.,  1.,  0.,  0.,  0.,  1.,  0.,  0.,  0.,  1.,\n",
              "         0.,  0.,  0.,  1.,  0.,  0.,  0.],\n",
              "       [ 0.,  1.,  0.,  0.,  0.,  1.,  0.,  0.,  0.,  1.,  0.,  0.,  0.,\n",
              "         1.,  0.,  0.,  0.,  1.,  0.,  0.],\n",
              "       [ 0.,  0.,  1.,  0.,  0.,  0.,  1.,  0.,  0.,  0.,  1.,  0.,  0.,\n",
              "         0.,  1.,  0.,  0.,  0.,  1.,  0.],\n",
              "       [ 0.,  0.,  0.,  1.,  0.,  0.,  0.,  1.,  0.,  0.,  0.,  1.,  0.,\n",
              "         0.,  0.,  1.,  0.,  0.,  0.,  1.]])"
            ]
          },
          "metadata": {},
          "execution_count": 161
        }
      ]
    },
    {
      "cell_type": "code",
      "source": [
        "m=grb.Model()\n",
        "mu_a = m.addMVar(shape=nba)\n",
        "m.setObjective(c_a @ mu_a, grb.GRB.MINIMIZE)\n",
        "m.addConstr( M_z_a @ mu_a == q_z)\n",
        "m.optimize()\n",
        "if m.status == grb.GRB.Status.OPTIMAL:\n",
        "    mustar_a = m.getAttr('x')\n",
        "    pstar_z = m.getAttr('pi')\n"
      ],
      "metadata": {
        "colab": {
          "base_uri": "https://localhost:8080/"
        },
        "id": "X5W9OJbO5tCi",
        "outputId": "17adfb82-4ba8-43a3-94ef-cf7bc8512db4"
      },
      "execution_count": null,
      "outputs": [
        {
          "output_type": "stream",
          "name": "stdout",
          "text": [
            "Gurobi Optimizer version 9.5.1 build v9.5.1rc2 (linux64)\n",
            "Thread count: 1 physical cores, 2 logical processors, using up to 2 threads\n",
            "Optimize a model with 9 rows, 20 columns and 40 nonzeros\n",
            "Model fingerprint: 0xfcaa41d6\n",
            "Coefficient statistics:\n",
            "  Matrix range     [1e+00, 1e+00]\n",
            "  Objective range  [5e+00, 8e+01]\n",
            "  Bounds range     [0e+00, 0e+00]\n",
            "  RHS range        [2e+00, 7e+00]\n",
            "Presolve time: 0.03s\n",
            "Presolved: 9 rows, 20 columns, 40 nonzeros\n",
            "\n",
            "Iteration    Objective       Primal Inf.    Dual Inf.      Time\n",
            "       0    1.9000000e+02   6.000000e+00   0.000000e+00      0s\n",
            "       4    2.5000000e+02   0.000000e+00   0.000000e+00      0s\n",
            "\n",
            "Solved in 4 iterations and 0.04 seconds (0.00 work units)\n",
            "Optimal objective  2.500000000e+02\n"
          ]
        }
      ]
    },
    {
      "cell_type": "code",
      "source": [
        "m.getAttr('objVal')"
      ],
      "metadata": {
        "colab": {
          "base_uri": "https://localhost:8080/"
        },
        "id": "OQmF4vPI57o7",
        "outputId": "503416f2-2265-42b5-faf6-e4930ec54add"
      },
      "execution_count": null,
      "outputs": [
        {
          "output_type": "execute_result",
          "data": {
            "text/plain": [
              "250.0"
            ]
          },
          "metadata": {},
          "execution_count": 163
        }
      ]
    },
    {
      "cell_type": "code",
      "source": [
        "nbi = 5\n",
        "nbj = 4\n",
        "C_i_j = np.array([[10,45,15,10],\n",
        "[50000,25,30,25],\n",
        "[35,15,20,15],\n",
        "[75,40,35,30],\n",
        "[20,60,5,65]]\n",
        ")\n",
        "nba = nbi*nbj\n",
        "nbz = nbi+nbj\n",
        "M_z_a = np.zeros((nbz,nba))\n",
        "c_a = np.zeros(nba)\n",
        "p_i = np.array([3,4,6,2,5])\n",
        "q_j = np.array([3,7,6,4])\n",
        "q_z = np.zeros(nbz)\n",
        "a = 0\n",
        "for i in range(nbi):\n",
        "  for j in range(nbj):\n",
        "    M_z_a[i,a] = -1\n",
        "    M_z_a[j+nbi,a] = 1\n",
        "    c_a[a] = C_i_j[i,j]\n",
        "    q_z[i] = - p_i[i]\n",
        "    q_z[nbi+j] = q_j[j]\n",
        "    a = a+1\n",
        "\n",
        "m=grb.Model()\n",
        "mu_a = m.addMVar(shape=nba)\n",
        "m.setObjective(c_a @ mu_a, grb.GRB.MINIMIZE)\n",
        "m.addConstr( M_z_a @ mu_a == q_z)\n",
        "m.optimize()\n",
        "if m.status == grb.GRB.Status.OPTIMAL:\n",
        "    mustar_a = m.getAttr('x')\n",
        "    pstar_z = m.getAttr('pi')\n",
        "m.getAttr('objVal')"
      ],
      "metadata": {
        "colab": {
          "base_uri": "https://localhost:8080/"
        },
        "id": "pKudzsha6eTw",
        "outputId": "5f501400-f6a9-4390-a5dc-51dc984dc882"
      },
      "execution_count": null,
      "outputs": [
        {
          "output_type": "stream",
          "name": "stdout",
          "text": [
            "Gurobi Optimizer version 9.5.1 build v9.5.1rc2 (linux64)\n",
            "Thread count: 1 physical cores, 2 logical processors, using up to 2 threads\n",
            "Optimize a model with 9 rows, 20 columns and 40 nonzeros\n",
            "Model fingerprint: 0x08477d8e\n",
            "Coefficient statistics:\n",
            "  Matrix range     [1e+00, 1e+00]\n",
            "  Objective range  [5e+00, 5e+04]\n",
            "  Bounds range     [0e+00, 0e+00]\n",
            "  RHS range        [2e+00, 7e+00]\n",
            "Presolve time: 0.02s\n",
            "Presolved: 9 rows, 20 columns, 40 nonzeros\n",
            "\n",
            "Iteration    Objective       Primal Inf.    Dual Inf.      Time\n",
            "       0    2.0500000e+02   1.200000e+01   0.000000e+00      0s\n",
            "       5    3.1000000e+02   0.000000e+00   0.000000e+00      0s\n",
            "\n",
            "Solved in 5 iterations and 0.03 seconds (0.00 work units)\n",
            "Optimal objective  3.100000000e+02\n"
          ]
        },
        {
          "output_type": "execute_result",
          "data": {
            "text/plain": [
              "310.0"
            ]
          },
          "metadata": {},
          "execution_count": 164
        }
      ]
    },
    {
      "cell_type": "markdown",
      "source": [
        "# Lecture 18: gradient descent"
      ],
      "metadata": {
        "id": "MGiOg-GBrGkS"
      }
    },
    {
      "cell_type": "code",
      "source": [
        "np.random.seed(77)\n",
        "d = 10\n",
        "a = 3\n",
        "A = 7\n",
        "kappa = A / a\n",
        "draws = np.random.uniform(size = d)\n",
        "eigenvalues =  a+(A-a)* ((draws - draws.min()) / (draws.max() - draws.min()) )\n",
        "U = ortho_group.rvs(d) # generates a random orthogonal matrix\n",
        "Q = U.T @ np.diag(eigenvalues ) @ U\n",
        "\n",
        "# np.linalg.eig(Q)[0] # check that it has indeed the right eigenvalues \n",
        "\n",
        "def E(y):\n",
        "  return  y.T @ Q @ y / 2 \n",
        "\n",
        "def g(y):\n",
        "  return Q @ y\n",
        "\n",
        "y0 = 100*np.random.normal(size = d)"
      ],
      "metadata": {
        "id": "yHpRgvcBBEhL"
      },
      "execution_count": null,
      "outputs": []
    },
    {
      "cell_type": "code",
      "source": [
        "keep_going = True\n",
        "abs_tol = 1e-10\n",
        "maxIt = 100\n",
        "yk = y0\n",
        "k = 0\n",
        "Elist = [E(yk)]\n",
        "while keep_going:\n",
        "  gk = g(yk)\n",
        "  alphak = gk.dot(gk) / gk.dot(Q @ gk)\n",
        "  yk = yk - alphak * gk\n",
        "  k = k+1\n",
        "  Ek = E(yk)\n",
        "  Elist.append(Ek)\n",
        "  if k>maxIt:\n",
        "    print('Max iteration reached.')\n",
        "    keep_going = False\n",
        "  if Ek < abs_tol:\n",
        "    keep_going = False\n",
        "print(yk)\n",
        "print(k)\n",
        "Evalues= np.array(Elist)\n"
      ],
      "metadata": {
        "colab": {
          "base_uri": "https://localhost:8080/"
        },
        "id": "MTdzRegcrlX3",
        "outputId": "eadf2e93-68ae-475f-8fdd-d41ebb95d8cd"
      },
      "execution_count": null,
      "outputs": [
        {
          "output_type": "stream",
          "name": "stdout",
          "text": [
            "[-0.  0. -0. -0. -0. -0.  0. -0.  0.  0.]\n",
            "17\n"
          ]
        }
      ]
    },
    {
      "cell_type": "code",
      "source": [
        "plt.plot(np.log(np.array(Evalues)))\n",
        "plt.ylabel('log E')\n",
        "plt.show()"
      ],
      "metadata": {
        "colab": {
          "base_uri": "https://localhost:8080/",
          "height": 265
        },
        "id": "ukp_jWb0rsDv",
        "outputId": "481e76b3-1ea5-48a9-af83-f203d2ffb3ef"
      },
      "execution_count": null,
      "outputs": [
        {
          "output_type": "display_data",
          "data": {
            "text/plain": [
              "<Figure size 432x288 with 1 Axes>"
            ],
            "image/png": "[encoded data removed]"
          },
          "metadata": {
            "needs_background": "light"
          }
        }
      ]
    },
    {
      "cell_type": "code",
      "source": [
        "actual_rate = (Evalues[k] / Evalues[0]) ** (1 / (k+1))\n",
        "worse_rate =  ((A-a)*(A-a)) / ((a+A)*(a+A)) \n",
        "\n",
        "\n",
        "print('actual rate:', actual_rate)\n",
        "print('worse rate   :', worse_rate)\n"
      ],
      "metadata": {
        "colab": {
          "base_uri": "https://localhost:8080/"
        },
        "id": "ax0L-4rUrvOQ",
        "outputId": "076f6048-ba42-4c78-b534-79941571dbc8"
      },
      "execution_count": null,
      "outputs": [
        {
          "output_type": "stream",
          "name": "stdout",
          "text": [
            "actual rate: 0.1323156385856514\n",
            "worse rate   : 0.16\n"
          ]
        }
      ]
    },
    {
      "cell_type": "markdown",
      "source": [
        "# Lecture 19: Armijo's rule"
      ],
      "metadata": {
        "id": "3lx-Yr-o4NbX"
      }
    },
    {
      "cell_type": "code",
      "source": [
        "def armijo(f,xk,fk,gk,dk,alpha0, eta=2,epsilon = 0.2, maxIt = 10):\n",
        "  cont = True\n",
        "  alpha = alpha0\n",
        "  it = 0\n",
        "  direction = 0\n",
        "  while cont:\n",
        "    if f(xk+alpha*dk) <= fk + epsilon * gk * alpha: # if we are too low\n",
        "      if direction ==-1: # if we are too low and if we were going down \n",
        "        alpha = alpha / epsilon # go back to previous value of alpha\n",
        "        cont=False # and stop\n",
        "      else: # if we are too low and if we were going up or just started\n",
        "        direction = 1 # set direction upward\n",
        "        alpha = alpha * eta # and increase alpha\n",
        "    elif f(xk+eta*alpha*dk) > fk + epsilon * gk * eta*alpha: # if we are too high\n",
        "      if direction == 1: # if we are too high and we were going up\n",
        "        alpha = alpha / eta # go back to previous value of alpha\n",
        "        cont=False # and stop\n",
        "      else: # if we are too high and if we have just started\n",
        "        direction = -1 # set direction downward\n",
        "        alpha = alpha * epsilon # and decrease alpha\n",
        "      if it>maxIt: # at some point, stop\n",
        "        cont=False\n",
        "  return alpha\n",
        "\n",
        "\n"
      ],
      "metadata": {
        "id": "hEEYQ58W4UMP"
      },
      "execution_count": null,
      "outputs": []
    },
    {
      "cell_type": "markdown",
      "source": [
        "# Lecture 20: an application to pricing\n",
        " "
      ],
      "metadata": {
        "id": "zQyrFi-NA5ao"
      }
    },
    {
      "cell_type": "code",
      "source": [
        "U_x_y = np.array([[2,1,3],[1,3,2]])\n",
        "n_x = np.array([10,8])\n",
        "m_y = np.array([3,5,4])\n",
        "\n",
        "def f(p_y):\n",
        "    return (  (n_x* np.log(1+ np.exp( U_x_y - p_y[None,:] ).sum(axis = 1))).sum() + m_y.dot(p_y)  ) \n",
        "\n",
        "def g(p_y):\n",
        "    denom_x = 1+ np.exp( U_x_y - p_y[None,:] ).sum(axis = 1)\n",
        "    ES_y = m_y -  (np.exp( U_x_y - p_y[None,:] ) * (n_x/ denom_x)[:,None]).sum(axis = 0)\n",
        "    return ES_y"
      ],
      "metadata": {
        "id": "vCLxIUbYA0az"
      },
      "execution_count": null,
      "outputs": []
    },
    {
      "cell_type": "code",
      "source": [
        "def gradient_descent(f,g, p0, beta, grad_tol = 1e-3, maxIt = 1000):\n",
        "  keep_going = True\n",
        "  pk = p0\n",
        "  k = 0\n",
        "  flist = [f(pk)]\n",
        "  while keep_going:\n",
        "    gk = g(pk)\n",
        "    pk = pk -  gk / beta\n",
        "    k = k+1\n",
        "    fk = f(pk)\n",
        "    flist.append(fk)\n",
        "    if k>maxIt:\n",
        "      print('Max iteration reached.')\n",
        "      keep_going = False\n",
        "    if np.linalg.norm(gk) < grad_tol:\n",
        "      keep_going = False\n",
        "  fvalues= np.array(flist)\n",
        "  return flist, pk, g(pk),k \n",
        "\n"
      ],
      "metadata": {
        "id": "rYDEArqhEZNB"
      },
      "execution_count": null,
      "outputs": []
    },
    {
      "cell_type": "code",
      "source": [
        "flist_standard, pk, gk,k  = gradient_descent(f,g,np.zeros(len(m_y)),n_x.sum())\n",
        "print('price vector    =' , pk)\n",
        "print('number of steps =', k)\n",
        "print('gradient        =' , gk)\n",
        "plt.plot(np.log(np.array(flist_standard)))\n",
        "plt.ylabel('log E')\n",
        "plt.show()"
      ],
      "metadata": {
        "colab": {
          "base_uri": "https://localhost:8080/",
          "height": 317
        },
        "id": "8lwkeDTJ-kGx",
        "outputId": "e8306d67-5666-49e6-80ad-f15d0f54de00"
      },
      "execution_count": null,
      "outputs": [
        {
          "output_type": "stream",
          "name": "stdout",
          "text": [
            "price vector    = [2.39713 2.45912 3.10952]\n",
            "number of steps = 127\n",
            "gradient        = [-0.00059 -0.00044 -0.00049]\n"
          ]
        },
        {
          "output_type": "display_data",
          "data": {
            "text/plain": [
              "<Figure size 432x288 with 1 Axes>"
            ],
            "image/png": "[encoded data removed]"
          },
          "metadata": {
            "needs_background": "light"
          }
        }
      ]
    },
    {
      "cell_type": "markdown",
      "source": [
        "Alternatively, we shall optimize using scipy `optimize` toolbox. Here, we use method = `CG` which is conjugate gradient -- to be discussed soon."
      ],
      "metadata": {
        "id": "Rx9CGA0bFonX"
      }
    },
    {
      "cell_type": "code",
      "source": [
        "from scipy import optimize"
      ],
      "metadata": {
        "id": "kaub_PUlFlrv"
      },
      "execution_count": null,
      "outputs": []
    },
    {
      "cell_type": "code",
      "source": [
        "outcome = optimize.minimize(f,jac = g, method = 'CG', x0=np.zeros(len(m_y)),options={'gtol':1e-3,'disp': True}) \n",
        "pstar = outcome['x']\n",
        "print(pstar)\n",
        "print(g(pstar))"
      ],
      "metadata": {
        "id": "UuucdDl-FD3o",
        "colab": {
          "base_uri": "https://localhost:8080/"
        },
        "outputId": "fd9b7d82-df6b-494a-c669-40cb0d14d511"
      },
      "execution_count": null,
      "outputs": [
        {
          "output_type": "stream",
          "name": "stdout",
          "text": [
            "Optimization terminated successfully.\n",
            "         Current function value: 51.762796\n",
            "         Iterations: 6\n",
            "         Function evaluations: 13\n",
            "         Gradient evaluations: 13\n",
            "[2.39758 2.45947 3.1099 ]\n",
            "[-0.00001  0.00003  0.     ]\n"
          ]
        }
      ]
    },
    {
      "cell_type": "markdown",
      "source": [
        "# Lecture 21: acceleration and Newton's method\n",
        "\n",
        "## Acceleration"
      ],
      "metadata": {
        "id": "9l2DbQEhcJyd"
      }
    },
    {
      "cell_type": "code",
      "source": [
        "def accelerated_gradient_descent(f,g, p0, beta, grad_tol = 1e-3, maxIt = 1000):\n",
        "  keep_going = True\n",
        "  k = 1\n",
        "  ptildek =  p0 -  g(p0) / beta\n",
        "  pk = ptildek.copy()\n",
        "  lambdak = 1\n",
        "  flist = [f(ptildek)]\n",
        "  while keep_going:\n",
        "    k += 1\n",
        "    newlambdak = (1+ sqrt(1+ 4* lambdak* lambdak) ) / 2\n",
        "    thetak = (lambdak - 1 ) / newlambdak\n",
        "    lambdak =  newlambdak\n",
        "    newptildek = pk -  g(pk) / beta\n",
        "    pk = (1+thetak)*newptildek - thetak * ptildek\n",
        "    ptildek = newptildek\n",
        "    flist.append(f(ptildek))\n",
        "    if k>maxIt:\n",
        "      keep_going = False\n",
        "    if np.linalg.norm(g(ptildek)) < grad_tol:\n",
        "      keep_going = False\n",
        "  fvalues= np.array(flist)\n",
        "  return flist, pk, g(pk),k "
      ],
      "metadata": {
        "id": "NKalHv-aHAW8"
      },
      "execution_count": null,
      "outputs": []
    },
    {
      "cell_type": "code",
      "source": [
        "flist_acc, pk, gk,k  = accelerated_gradient_descent(f,g,np.zeros(len(m_y)),n_x.sum())\n",
        "print('price vector    =' , pk)\n",
        "print('number of steps =', k)\n",
        "print('gradient        =' , gk)\n",
        "plt.plot(np.log(np.array(flist_standard)))\n",
        "plt.plot(np.log(np.array(flist_acc)))\n",
        "plt.ylabel('log E')\n",
        "plt.show()"
      ],
      "metadata": {
        "colab": {
          "base_uri": "https://localhost:8080/",
          "height": 317
        },
        "id": "xXPz1oQniTlX",
        "outputId": "c1efdb3b-85e8-4347-9ff5-36b1cf29d75a"
      },
      "execution_count": null,
      "outputs": [
        {
          "output_type": "stream",
          "name": "stdout",
          "text": [
            "price vector    = [2.39576 2.45812 3.10838]\n",
            "number of steps = 74\n",
            "gradient        = [-0.00239 -0.00172 -0.00198]\n"
          ]
        },
        {
          "output_type": "display_data",
          "data": {
            "text/plain": [
              "<Figure size 432x288 with 1 Axes>"
            ],
            "image/png": "[encoded data removed]"
          },
          "metadata": {
            "needs_background": "light"
          }
        }
      ]
    },
    {
      "cell_type": "markdown",
      "source": [
        "## Newton's method"
      ],
      "metadata": {
        "id": "VHbfX9ldI3hc"
      }
    },
    {
      "cell_type": "code",
      "source": [
        "def newton_descent(f,g, F, p0, alpha = 1, grad_tol = 1e-3, maxIt = 1000):\n",
        "  keep_going = True\n",
        "  pk = p0\n",
        "  k = 0\n",
        "  flist = [f(pk)]\n",
        "  while keep_going:\n",
        "    gk = g(pk)\n",
        "    pk = pk -  alpha * np.linalg.solve(F(pk) ,gk)  \n",
        "    k = k+1\n",
        "    fk = f(pk)\n",
        "    flist.append(fk)\n",
        "    if k>maxIt:\n",
        "      print('Max iteration reached.')\n",
        "      keep_going = False\n",
        "    if np.linalg.norm(gk) < grad_tol:\n",
        "      keep_going = False\n",
        "  fvalues= np.array(flist)\n",
        "  return flist, pk, g(pk),k "
      ],
      "metadata": {
        "id": "a5btqRKSI5Ma"
      },
      "execution_count": null,
      "outputs": []
    },
    {
      "cell_type": "code",
      "source": [
        "def F(p_y):\n",
        "    denom_x = 1+ np.exp( U_x_y - p_y[None,:] ).sum(axis = 1)\n",
        "    nby = len(p_y)\n",
        "    nbx = len(denom_x)\n",
        "    Hess_y_y = np.zeros((nby,nby))\n",
        "    for x in range(nbx):\n",
        "      pi_y =  (np.exp( U_x_y[x,:] - p_y ) /  denom_x[x]).flatten()\n",
        "      Hess_y_y +=  n_x[x] * ( np.diag(pi_y) - pi_y.reshape((nby,1)) * pi_y.reshape((1,nby)) )\n",
        "    return Hess_y_y"
      ],
      "metadata": {
        "id": "gTxBMdaeJtXb"
      },
      "execution_count": null,
      "outputs": []
    },
    {
      "cell_type": "code",
      "source": [
        "flist_Newton, pk, gk,k  = newton_descent(f,g,F ,np.zeros(len(m_y)),alpha = 0.5)\n",
        "print('price vector    =' , pk)\n",
        "print('number of steps =', k)\n",
        "print('gradient        =' , gk)\n",
        "plt.plot(np.log(np.array(flist_standard)))\n",
        "plt.plot(np.log(np.array(flist_acc)))\n",
        "plt.plot(np.log(np.array(flist_Newton)))\n",
        "plt.ylabel('log E')\n",
        "plt.show()\n"
      ],
      "metadata": {
        "colab": {
          "base_uri": "https://localhost:8080/",
          "height": 317
        },
        "id": "R9YgU2w1Lm3k",
        "outputId": "eaa05ccf-7a59-42b2-df80-0859186ac1f6"
      },
      "execution_count": null,
      "outputs": [
        {
          "output_type": "stream",
          "name": "stdout",
          "text": [
            "price vector    = [2.3977  2.45961 3.11007]\n",
            "number of steps = 14\n",
            "gradient        = [0.00006 0.00025 0.00029]\n"
          ]
        },
        {
          "output_type": "display_data",
          "data": {
            "text/plain": [
              "<Figure size 432x288 with 1 Axes>"
            ],
            "image/png": "[encoded data removed]"
          },
          "metadata": {
            "needs_background": "light"
          }
        }
      ]
    },
    {
      "cell_type": "markdown",
      "source": [
        "# Lecture 22: stochastic gradient descent"
      ],
      "metadata": {
        "id": "t_I_3rqA9JTu"
      }
    },
    {
      "cell_type": "code",
      "source": [
        "titanic_df = pd.read_csv('https://web.stanford.edu/class/archive/cs/cs109/cs109.1166/stuff/titanic.csv', sep=',')\n",
        "titanic_df.head()"
      ],
      "metadata": {
        "colab": {
          "base_uri": "https://localhost:8080/",
          "height": 206
        },
        "id": "uTiijKNw9M3Z",
        "outputId": "a99eea09-4b3b-48af-c6b8-5ce3a1c53cf1"
      },
      "execution_count": null,
      "outputs": [
        {
          "output_type": "execute_result",
          "data": {
            "text/plain": [
              "   Survived  Pclass                                               Name  \\\n",
              "0         0       3                             Mr. Owen Harris Braund   \n",
              "1         1       1  Mrs. John Bradley (Florence Briggs Thayer) Cum...   \n",
              "2         1       3                              Miss. Laina Heikkinen   \n",
              "3         1       1        Mrs. Jacques Heath (Lily May Peel) Futrelle   \n",
              "4         0       3                            Mr. William Henry Allen   \n",
              "\n",
              "      Sex   Age  Siblings/Spouses Aboard  Parents/Children Aboard     Fare  \n",
              "0    male  22.0                        1                        0   7.2500  \n",
              "1  female  38.0                        1                        0  71.2833  \n",
              "2  female  26.0                        0                        0   7.9250  \n",
              "3  female  35.0                        1                        0  53.1000  \n",
              "4    male  35.0                        0                        0   8.0500  "
            ],
            "text/html": [
              "\n",
              "  <div id=\"df-4617dfb8-0f8a-4b76-98e0-e254851898b9\">\n",
              "    <div class=\"colab-df-container\">\n",
              "      <div>\n",
              "<style scoped>\n",
              "    .dataframe tbody tr th:only-of-type {\n",
              "        vertical-align: middle;\n",
              "    }\n",
              "\n",
              "    .dataframe tbody tr th {\n",
              "        vertical-align: top;\n",
              "    }\n",
              "\n",
              "    .dataframe thead th {\n",
              "        text-align: right;\n",
              "    }\n",
              "</style>\n",
              "<table border=\"1\" class=\"dataframe\">\n",
              "  <thead>\n",
              "    <tr style=\"text-align: right;\">\n",
              "      <th></th>\n",
              "      <th>Survived</th>\n",
              "      <th>Pclass</th>\n",
              "      <th>Name</th>\n",
              "      <th>Sex</th>\n",
              "      <th>Age</th>\n",
              "      <th>Siblings/Spouses Aboard</th>\n",
              "      <th>Parents/Children Aboard</th>\n",
              "      <th>Fare</th>\n",
              "    </tr>\n",
              "  </thead>\n",
              "  <tbody>\n",
              "    <tr>\n",
              "      <th>0</th>\n",
              "      <td>0</td>\n",
              "      <td>3</td>\n",
              "      <td>Mr. Owen Harris Braund</td>\n",
              "      <td>male</td>\n",
              "      <td>22.0</td>\n",
              "      <td>1</td>\n",
              "      <td>0</td>\n",
              "      <td>7.2500</td>\n",
              "    </tr>\n",
              "    <tr>\n",
              "      <th>1</th>\n",
              "      <td>1</td>\n",
              "      <td>1</td>\n",
              "      <td>Mrs. John Bradley (Florence Briggs Thayer) Cum...</td>\n",
              "      <td>female</td>\n",
              "      <td>38.0</td>\n",
              "      <td>1</td>\n",
              "      <td>0</td>\n",
              "      <td>71.2833</td>\n",
              "    </tr>\n",
              "    <tr>\n",
              "      <th>2</th>\n",
              "      <td>1</td>\n",
              "      <td>3</td>\n",
              "      <td>Miss. Laina Heikkinen</td>\n",
              "      <td>female</td>\n",
              "      <td>26.0</td>\n",
              "      <td>0</td>\n",
              "      <td>0</td>\n",
              "      <td>7.9250</td>\n",
              "    </tr>\n",
              "    <tr>\n",
              "      <th>3</th>\n",
              "      <td>1</td>\n",
              "      <td>1</td>\n",
              "      <td>Mrs. Jacques Heath (Lily May Peel) Futrelle</td>\n",
              "      <td>female</td>\n",
              "      <td>35.0</td>\n",
              "      <td>1</td>\n",
              "      <td>0</td>\n",
              "      <td>53.1000</td>\n",
              "    </tr>\n",
              "    <tr>\n",
              "      <th>4</th>\n",
              "      <td>0</td>\n",
              "      <td>3</td>\n",
              "      <td>Mr. William Henry Allen</td>\n",
              "      <td>male</td>\n",
              "      <td>35.0</td>\n",
              "      <td>0</td>\n",
              "      <td>0</td>\n",
              "      <td>8.0500</td>\n",
              "    </tr>\n",
              "  </tbody>\n",
              "</table>\n",
              "</div>\n",
              "      <button class=\"colab-df-convert\" onclick=\"convertToInteractive('df-4617dfb8-0f8a-4b76-98e0-e254851898b9')\"\n",
              "              title=\"Convert this dataframe to an interactive table.\"\n",
              "              style=\"display:none;\">\n",
              "        \n",
              "  <svg xmlns=\"http://www.w3.org/2000/svg\" height=\"24px\"viewBox=\"0 0 24 24\"\n",
              "       width=\"24px\">\n",
              "    <path d=\"M0 0h24v24H0V0z\" fill=\"none\"/>\n",
              "    <path d=\"M18.56 5.44l.94 2.06.94-2.06 2.06-.94-2.06-.94-.94-2.06-.94 2.06-2.06.94zm-11 1L8.5 8.5l.94-2.06 2.06-.94-2.06-.94L8.5 2.5l-.94 2.06-2.06.94zm10 10l.94 2.06.94-2.06 2.06-.94-2.06-.94-.94-2.06-.94 2.06-2.06.94z\"/><path d=\"M17.41 7.96l-1.37-1.37c-.4-.4-.92-.59-1.43-.59-.52 0-1.04.2-1.43.59L10.3 9.45l-7.72 7.72c-.78.78-.78 2.05 0 2.83L4 21.41c.39.39.9.59 1.41.59.51 0 1.02-.2 1.41-.59l7.78-7.78 2.81-2.81c.8-.78.8-2.07 0-2.86zM5.41 20L4 18.59l7.72-7.72 1.47 1.35L5.41 20z\"/>\n",
              "  </svg>\n",
              "      </button>\n",
              "      \n",
              "  <style>\n",
              "    .colab-df-container {\n",
              "      display:flex;\n",
              "      flex-wrap:wrap;\n",
              "      gap: 12px;\n",
              "    }\n",
              "\n",
              "    .colab-df-convert {\n",
              "      background-color: #E8F0FE;\n",
              "      border: none;\n",
              "      border-radius: 50%;\n",
              "      cursor: pointer;\n",
              "      display: none;\n",
              "      fill: #1967D2;\n",
              "      height: 32px;\n",
              "      padding: 0 0 0 0;\n",
              "      width: 32px;\n",
              "    }\n",
              "\n",
              "    .colab-df-convert:hover {\n",
              "      background-color: #E2EBFA;\n",
              "      box-shadow: 0px 1px 2px rgba(60, 64, 67, 0.3), 0px 1px 3px 1px rgba(60, 64, 67, 0.15);\n",
              "      fill: #174EA6;\n",
              "    }\n",
              "\n",
              "    [theme=dark] .colab-df-convert {\n",
              "      background-color: #3B4455;\n",
              "      fill: #D2E3FC;\n",
              "    }\n",
              "\n",
              "    [theme=dark] .colab-df-convert:hover {\n",
              "      background-color: #434B5C;\n",
              "      box-shadow: 0px 1px 3px 1px rgba(0, 0, 0, 0.15);\n",
              "      filter: drop-shadow(0px 1px 2px rgba(0, 0, 0, 0.3));\n",
              "      fill: #FFFFFF;\n",
              "    }\n",
              "  </style>\n",
              "\n",
              "      <script>\n",
              "        const buttonEl =\n",
              "          document.querySelector('#df-4617dfb8-0f8a-4b76-98e0-e254851898b9 button.colab-df-convert');\n",
              "        buttonEl.style.display =\n",
              "          google.colab.kernel.accessAllowed ? 'block' : 'none';\n",
              "\n",
              "        async function convertToInteractive(key) {\n",
              "          const element = document.querySelector('#df-4617dfb8-0f8a-4b76-98e0-e254851898b9');\n",
              "          const dataTable =\n",
              "            await google.colab.kernel.invokeFunction('convertToInteractive',\n",
              "                                                     [key], {});\n",
              "          if (!dataTable) return;\n",
              "\n",
              "          const docLinkHtml = 'Like what you see? Visit the ' +\n",
              "            '<a target=\"_blank\" href=https://colab.research.google.com/notebooks/data_table.ipynb>data table notebook</a>'\n",
              "            + ' to learn more about interactive tables.';\n",
              "          element.innerHTML = '';\n",
              "          dataTable['output_type'] = 'display_data';\n",
              "          await google.colab.output.renderOutput(dataTable, element);\n",
              "          const docLink = document.createElement('div');\n",
              "          docLink.innerHTML = docLinkHtml;\n",
              "          element.appendChild(docLink);\n",
              "        }\n",
              "      </script>\n",
              "    </div>\n",
              "  </div>\n",
              "  "
            ]
          },
          "metadata": {},
          "execution_count": 180
        }
      ]
    },
    {
      "cell_type": "code",
      "source": [
        "y_i = np.array(titanic_df['Survived']) \n",
        "nbi = len(y_i)\n",
        "x_i_k = np.array( [[1]*nbi, titanic_df['Pclass'],titanic_df['Sex'] == 'female', titanic_df['Siblings/Spouses Aboard']/8,titanic_df['Fare']/1000],dtype=float).T\n",
        "_,nbk = x_i_k.shape"
      ],
      "metadata": {
        "id": "aRsulbW3-V5q"
      },
      "execution_count": null,
      "outputs": []
    },
    {
      "cell_type": "code",
      "source": [
        "def li(theta_k,i):\n",
        "  return - y_i[i] * x_i_k[i,:].dot(theta_k) + np.log(1+np.exp( x_i_k[i,:].dot(theta_k)))\n",
        "\n",
        "def gradli(theta_k,i):\n",
        "  return ( 1 / (1+np.exp( - x_i_k[i,:].dot(theta_k))) - y_i[i] ) * x_i_k[i,:]\n",
        "\n",
        "def L(theta_k):\n",
        "  return (- y_i @ x_i_k @ theta_k + np.log(1+np.exp( x_i_k @ theta_k)).sum()) / nbi\n",
        "\n",
        "def gradL(theta_k):\n",
        "  return ( 1 / (1+np.exp( - x_i_k @ theta_k)) - y_i ) @ x_i_k / nbi"
      ],
      "metadata": {
        "id": "8cYn0dOb_U24"
      },
      "execution_count": null,
      "outputs": []
    },
    {
      "cell_type": "code",
      "source": [
        "flist_titanic, theta_k, gk,nbsteps  = gradient_descent(L,gradL,1*np.ones(nbk),(x_i_k*x_i_k).sum()/nbi,grad_tol=1e-2, maxIt = 1e4)\n",
        "print('parameter vector=' , theta_k)\n",
        "print('number of steps =', nbsteps)\n",
        "print('gradient        =' , gk)\n",
        "plt.plot(np.log(np.array(flist_titanic)))\n",
        "plt.ylabel('log E')\n",
        "plt.show()"
      ],
      "metadata": {
        "colab": {
          "base_uri": "https://localhost:8080/",
          "height": 317
        },
        "id": "Zgb-iOgv10kD",
        "outputId": "2fd1f15f-44cc-4117-a085-377b2b126c2a"
      },
      "execution_count": null,
      "outputs": [
        {
          "output_type": "stream",
          "name": "stdout",
          "text": [
            "parameter vector= [ 0.4992  -0.87865  2.39089  0.57898  1.01686]\n",
            "number of steps = 423\n",
            "gradient        = [-0.00063  0.00143 -0.00742  0.00644 -0.00016]\n"
          ]
        },
        {
          "output_type": "display_data",
          "data": {
            "text/plain": [
              "<Figure size 432x288 with 1 Axes>"
            ],
            "image/png": "[encoded data removed]"
          },
          "metadata": {
            "needs_background": "light"
          }
        }
      ]
    },
    {
      "cell_type": "code",
      "source": [
        "def stochastic_gradient_descent(f,g, p0, beta, alpha = None, batch_size = 1,  nbIt = 1000):\n",
        "  keep_going = True\n",
        "  pk = p0\n",
        "  k = 0\n",
        "  flist = [f(pk)]\n",
        "  if alpha is None:\n",
        "    alpha = lambda k: 1/beta\n",
        "  for epoch in range(nbIt):\n",
        "    batch = np.random.permutation(nbi)[0:batch_size]\n",
        "    gk = 0.0\n",
        "    for i in batch:\n",
        "      gk += gradli(pk,i)\n",
        "    gk = gk / batch_size\n",
        "    pk = pk -  gk * alpha(k)\n",
        "    k = k+1\n",
        "    fk = f(pk)\n",
        "    flist.append(fk)\n",
        "  fvalues= np.array(flist)\n",
        "  return flist, pk, g(pk)"
      ],
      "metadata": {
        "id": "Nae5we49DeMs"
      },
      "execution_count": null,
      "outputs": []
    },
    {
      "cell_type": "code",
      "source": [
        "np.random.seed(1)\n",
        "flist_titanic_sgd, theta_k, gk  = stochastic_gradient_descent(L,gradL,1*np.ones(nbk), (x_i_k*x_i_k).sum()/nbi,batch_size =1, nbIt = nbsteps)\n",
        "print('parameter vector=' , theta_k)\n",
        "print('gradient        =' , gk)\n",
        "plt.plot(np.log(np.array(flist_titanic)))\n",
        "plt.plot(np.log(np.array(flist_titanic_sgd)))\n",
        "plt.ylabel('log E')\n",
        "plt.show()"
      ],
      "metadata": {
        "colab": {
          "base_uri": "https://localhost:8080/",
          "height": 300
        },
        "id": "ap9LGD6UGIKY",
        "outputId": "3ea5c367-0e96-42be-b9c2-e46baad669bb"
      },
      "execution_count": null,
      "outputs": [
        {
          "output_type": "stream",
          "name": "stdout",
          "text": [
            "parameter vector= [ 0.68665 -0.67257  2.95925  0.64426  1.01989]\n",
            "gradient        = [0.13156 0.33036 0.05461 0.01645 0.00322]\n"
          ]
        },
        {
          "output_type": "display_data",
          "data": {
            "text/plain": [
              "<Figure size 432x288 with 1 Axes>"
            ],
            "image/png": "[encoded data removed]"
          },
          "metadata": {
            "needs_background": "light"
          }
        }
      ]
    },
    {
      "cell_type": "markdown",
      "source": [
        "The following takes batches of size 5:"
      ],
      "metadata": {
        "id": "-0pFFmWfR7j-"
      }
    },
    {
      "cell_type": "code",
      "source": [
        "np.random.seed(1)\n",
        "flist_titanic_sgd_size5, theta_k, gk  = stochastic_gradient_descent(L,gradL,1*np.ones(nbk), (x_i_k*x_i_k).sum()/nbi,batch_size =5, nbIt = nbsteps)\n",
        "print('parameter vector=' , theta_k)\n",
        "print('gradient        =' , gk)\n",
        "plt.plot(np.log(np.array(flist_titanic)))\n",
        "plt.plot(np.log(np.array(flist_titanic_sgd)))\n",
        "plt.plot(np.log(np.array(flist_titanic_sgd_size5)))\n",
        "plt.ylabel('log E')\n",
        "plt.show()"
      ],
      "metadata": {
        "colab": {
          "base_uri": "https://localhost:8080/",
          "height": 300
        },
        "id": "oSGOhCcgRt8C",
        "outputId": "76b5c18c-337f-4f86-9145-6afab84ab1a5"
      },
      "execution_count": null,
      "outputs": [
        {
          "output_type": "stream",
          "name": "stdout",
          "text": [
            "parameter vector= [ 0.45595 -0.73611  2.56171  0.6082   1.03488]\n",
            "gradient        = [0.05403 0.14245 0.02116 0.01084 0.00111]\n"
          ]
        },
        {
          "output_type": "display_data",
          "data": {
            "text/plain": [
              "<Figure size 432x288 with 1 Axes>"
            ],
            "image/png": "[encoded data removed]"
          },
          "metadata": {
            "needs_background": "light"
          }
        }
      ]
    },
    {
      "cell_type": "markdown",
      "source": [
        "The following implements a diminishing step: $$\\alpha_k =\\frac {1} {k}.$$ "
      ],
      "metadata": {
        "id": "qsyjigdGRaK_"
      }
    },
    {
      "cell_type": "code",
      "source": [
        "np.random.seed(1)\n",
        "flist_titanic_sgd_decreasing_step, theta_k, gk  = stochastic_gradient_descent(L,gradL,1*np.ones(nbk), (x_i_k*x_i_k).sum()/nbi, alpha = lambda k:1/(k+1),batch_size =1, nbIt = nbsteps)\n",
        "print('parameter vector=' , theta_k)\n",
        "print('gradient        =' , gk)\n",
        "plt.plot(np.log(np.array(flist_titanic)))\n",
        "plt.plot(np.log(np.array(flist_titanic_sgd)))\n",
        "plt.plot(np.log(np.array(flist_titanic_sgd_decreasing_step)))\n",
        "plt.ylabel('log E')\n",
        "plt.show()"
      ],
      "metadata": {
        "colab": {
          "base_uri": "https://localhost:8080/",
          "height": 300
        },
        "id": "pELAcQb1RJlo",
        "outputId": "72af12ed-67fa-463a-8527-7b7061dd9cf5"
      },
      "execution_count": null,
      "outputs": [
        {
          "output_type": "stream",
          "name": "stdout",
          "text": [
            "parameter vector= [ 0.61029 -0.81982  1.59605  0.9717   1.04253]\n",
            "gradient        = [-0.01037 -0.02188 -0.04288  0.00633 -0.00059]\n"
          ]
        },
        {
          "output_type": "display_data",
          "data": {
            "text/plain": [
              "<Figure size 432x288 with 1 Axes>"
            ],
            "image/png": "[encoded data removed]"
          },
          "metadata": {
            "needs_background": "light"
          }
        }
      ]
    },
    {
      "cell_type": "markdown",
      "source": [
        "# Quasi-Newton methods"
      ],
      "metadata": {
        "id": "0qRQFZ6cl_xU"
      }
    },
    {
      "cell_type": "code",
      "source": [
        "def more_descent(f,g, x0,  method, nbIt = 1000, gtol = 1e-3, disp=True, maxiter = 1000):\n",
        "    global the_flist\n",
        "    the_flist=[]\n",
        "    \n",
        "    def printx(Xi):\n",
        "        global the_flist\n",
        "        the_flist.append(  f(Xi) )\n",
        "\n",
        "    outcome = optimize.minimize(f,jac = g, method = method, x0=x0,callback=printx, options={'gtol':gtol,'disp': disp, \n",
        "                                                                                                           'maxiter':maxiter}) \n",
        "    pstar = outcome['x']\n",
        "    return the_flist.copy(), pstar, g(pstar),outcome['nit']"
      ],
      "metadata": {
        "id": "oUmWATgBmCI1"
      },
      "execution_count": null,
      "outputs": []
    },
    {
      "cell_type": "code",
      "source": [
        "flist_BFGS, pk, gk,k  = more_descent(f,g,np.zeros(len(m_y)),'BFGS')\n",
        "print('price vector    =' , pk)\n",
        "print('number of steps =', k)\n",
        "print('gradient        =' , gk)\n",
        "plt.plot(np.log(np.array(flist_standard)))\n",
        "plt.plot(np.log(np.array(flist_Newton)))\n",
        "plt.plot(np.log(np.array(flist_BFGS)))\n",
        "plt.ylabel('log E')\n",
        "plt.show()"
      ],
      "metadata": {
        "colab": {
          "base_uri": "https://localhost:8080/",
          "height": 404
        },
        "id": "ZNl9QdjVmRyq",
        "outputId": "e527c4a2-ec57-405d-981f-ebb6dc0ee2d7"
      },
      "execution_count": null,
      "outputs": [
        {
          "output_type": "stream",
          "name": "stdout",
          "text": [
            "Optimization terminated successfully.\n",
            "         Current function value: 51.762796\n",
            "         Iterations: 7\n",
            "         Function evaluations: 10\n",
            "         Gradient evaluations: 10\n",
            "price vector    = [2.39786 2.45961 3.11013]\n",
            "number of steps = 7\n",
            "gradient        = [0.0004  0.00013 0.00032]\n"
          ]
        },
        {
          "output_type": "display_data",
          "data": {
            "text/plain": [
              "<Figure size 432x288 with 1 Axes>"
            ],
            "image/png": "[encoded data removed]"
          },
          "metadata": {
            "needs_background": "light"
          }
        }
      ]
    },
    {
      "cell_type": "markdown",
      "source": [
        "# Lecture 24: Conjugate gradient descent"
      ],
      "metadata": {
        "id": "u46gwSs-RwGO"
      }
    },
    {
      "cell_type": "code",
      "source": [
        "np.random.seed(77)\n",
        "d = 10\n",
        "a = 3\n",
        "A = 7\n",
        "# kappa = A / a\n",
        "draws = np.random.uniform(size = d)\n",
        "eigenvalues =  a+(A-a)* ((draws - draws.min()) / (draws.max() - draws.min()) )\n",
        "U = ortho_group.rvs(d) # generates a random orthogonal matrix\n",
        "Q = U.T @ np.diag(eigenvalues ) @ U\n",
        "b = np.ones(d)"
      ],
      "metadata": {
        "id": "63kRk6RYR9T4"
      },
      "execution_count": null,
      "outputs": []
    },
    {
      "cell_type": "code",
      "source": [
        "xk = np.zeros(d)\n",
        "gk = b - Q @ xk\n",
        "dk = b - Q @ xk\n",
        "for k in range(d):\n",
        "  alphak = - dk.dot(gk) / dk.dot(Q @ dk)\n",
        "  xk = xk + alphak * dk\n",
        "  gk = Q @ xk - b\n",
        "  betak = dk.dot(Q@gk) / dk.dot(Q @ dk)\n",
        "  dk = -gk + betak* dk \n",
        "\n",
        "xstar = np.linalg.solve(Q ,b)  \n",
        "print((np.abs(xk -xstar) ).max())\n"
      ],
      "metadata": {
        "colab": {
          "base_uri": "https://localhost:8080/"
        },
        "id": "Td-jh3__SPE0",
        "outputId": "86c6e30c-aff1-4e64-8714-f1e0a3b12642"
      },
      "execution_count": null,
      "outputs": [
        {
          "output_type": "stream",
          "name": "stdout",
          "text": [
            "2.4832233547211757e-08\n"
          ]
        }
      ]
    },
    {
      "cell_type": "markdown",
      "source": [
        "# Lecture 26: proximal gradient descent"
      ],
      "metadata": {
        "id": "AY0iOHYPCMmU"
      }
    },
    {
      "cell_type": "markdown",
      "source": [
        "We first construct the soft thresholding operator:"
      ],
      "metadata": {
        "id": "8y_4TBGOO2Xb"
      }
    },
    {
      "cell_type": "code",
      "source": [
        "def S(y_i,eta):\n",
        "  nbi = len(y_i)\n",
        "  x_i = np.zeros(nbi)\n",
        "  for i in range(nbi):\n",
        "    if y_i[i] > eta:\n",
        "      x_i[i] = y_i[i] - eta\n",
        "    elif y_i[i] < - eta:\n",
        "      x_i[i] = y_i[i] + eta\n",
        "  return x_i"
      ],
      "metadata": {
        "id": "yIMKSNWgCnNc"
      },
      "execution_count": null,
      "outputs": []
    },
    {
      "cell_type": "markdown",
      "source": [
        "Next, we implement proximal gradient descent:"
      ],
      "metadata": {
        "id": "R7YB7EcqO6_2"
      }
    },
    {
      "cell_type": "code",
      "source": [
        "def proximal_gradient_descent(f,g, x0,gamma,  alpha, grad_tol = 1e-3, maxIt = 1000):\n",
        "  keep_going = True\n",
        "  xk = x0\n",
        "  k = 0\n",
        "  flist = [f(xk)]\n",
        "  while keep_going:\n",
        "    gk = g(xk)\n",
        "    yk = xk -  alpha * gk \n",
        "    newxk = S(yk,alpha*gamma)\n",
        "    k = k+1\n",
        "    fk = f(xk)\n",
        "    flist.append(fk)\n",
        "    if k>maxIt:\n",
        "      print('Max iteration reached.')\n",
        "      keep_going = False\n",
        "    if np.linalg.norm( (newxk - xk) / alpha ) < grad_tol:\n",
        "      keep_going = False\n",
        "    xk = newxk\n",
        "  fvalues= np.array(flist)\n",
        "  return flist, xk, g(xk),k "
      ],
      "metadata": {
        "id": "mDHRYH1-O-Uk"
      },
      "execution_count": null,
      "outputs": []
    },
    {
      "cell_type": "markdown",
      "source": [
        "We compute the logistic regression with L1 penalization:"
      ],
      "metadata": {
        "id": "6WWs6tezPCVm"
      }
    },
    {
      "cell_type": "code",
      "source": [
        "gamma = 1e-3 # try 1e-3, 1e-2, 1e-1, 1.0\n",
        "flist_titanic, theta_k, gk,nbsteps  = gradient_descent(L,gradL,1*np.ones(nbk),(x_i_k*x_i_k).sum()/nbi,grad_tol=1e-2, maxIt = 1e4)\n",
        "print('gd, parameter vector =' , theta_k)\n",
        "print('gd, number of steps  =', nbsteps)\n",
        "#print('gd, gradient         =' , gk)\n",
        "flist_titanic_pgd, theta_k, gk,nbsteps  = proximal_gradient_descent(L,gradL,1*np.ones(nbk), gamma,nbi/(x_i_k*x_i_k).sum(),grad_tol=1e-2,)\n",
        "print('pgd, parameter vector=' , theta_k)\n",
        "print('pgd, number of steps =', nbsteps)\n",
        "#print('pgd, gradient        =' , gk)\n",
        "plt.plot(np.log(np.array(flist_titanic)))\n",
        "plt.plot(np.log(np.array(flist_titanic_pgd)))\n",
        "plt.ylabel('log E')\n",
        "plt.show()"
      ],
      "metadata": {
        "colab": {
          "base_uri": "https://localhost:8080/",
          "height": 335
        },
        "id": "6ydSPQNNLOHI",
        "outputId": "f05f36fe-7f8c-4dff-ad8b-5b197b41dd8d"
      },
      "execution_count": null,
      "outputs": [
        {
          "output_type": "stream",
          "name": "stdout",
          "text": [
            "gd, parameter vector = [ 0.4992  -0.87865  2.39089  0.57898  1.01686]\n",
            "gd, number of steps  = 423\n",
            "pgd, parameter vector= [ 0.46248 -0.85957  2.38362  0.51179  0.96217]\n",
            "pgd, number of steps = 439\n"
          ]
        },
        {
          "output_type": "display_data",
          "data": {
            "text/plain": [
              "<Figure size 432x288 with 1 Axes>"
            ],
            "image/png": "[encoded data removed]"
          },
          "metadata": {
            "needs_background": "light"
          }
        }
      ]
    }
  ],
  "metadata": {
    "colab": {
      "provenance": [],
      "include_colab_link": true
    },
    "kernelspec": {
      "display_name": "Python 3",
      "name": "python3"
    },
    "language_info": {
      "name": "python"
    }
  },
  "nbformat": 4,
  "nbformat_minor": 0
}